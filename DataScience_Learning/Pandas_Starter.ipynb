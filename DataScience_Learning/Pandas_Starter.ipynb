{
 "cells": [
  {
   "cell_type": "code",
   "execution_count": 20,
   "metadata": {},
   "outputs": [
    {
     "name": "stdout",
     "output_type": "stream",
     "text": [
      "1.5.0\n",
      "1.22.3\n",
      "Created by Guru Sarath Thangamani\n"
     ]
    }
   ],
   "source": [
    "import pandas as pd\n",
    "import numpy as np\n",
    "print(pd.__version__)\n",
    "print(np.__version__)\n",
    "print(\"Created by Guru Sarath Thangamani\")"
   ]
  },
  {
   "cell_type": "markdown",
   "metadata": {},
   "source": [
    "# Series"
   ]
  },
  {
   "cell_type": "code",
   "execution_count": 3,
   "metadata": {},
   "outputs": [
    {
     "data": {
      "text/plain": [
       "0     car\n",
       "1    bike\n",
       "2     jet\n",
       "dtype: object"
      ]
     },
     "execution_count": 3,
     "metadata": {},
     "output_type": "execute_result"
    }
   ],
   "source": [
    "list_1 = ['car', 'bike', 'jet']\n",
    "# Series is a list of items with datatype\n",
    "pd.Series(list_1)"
   ]
  },
  {
   "cell_type": "code",
   "execution_count": 4,
   "metadata": {},
   "outputs": [
    {
     "data": {
      "text/plain": [
       "0    1\n",
       "1    2\n",
       "2    3\n",
       "dtype: int64"
      ]
     },
     "execution_count": 4,
     "metadata": {},
     "output_type": "execute_result"
    }
   ],
   "source": [
    "list_2 = [1,2,3]\n",
    "pd.Series(list_2)"
   ]
  },
  {
   "cell_type": "markdown",
   "metadata": {},
   "source": [
    "# Data frame"
   ]
  },
  {
   "cell_type": "code",
   "execution_count": 41,
   "metadata": {},
   "outputs": [
    {
     "name": "stdout",
     "output_type": "stream",
     "text": [
      "     name  age  height\n",
      "0     ram   90     7.6\n",
      "1   shyam    2     5.6\n",
      "2    gham   98     6.2\n",
      "3  tester    7     5.4\n"
     ]
    }
   ],
   "source": [
    "data_1 = [('ram', 90, 7.6),('shyam', 2, 5.6),('gham', 98, 6.2),('tester', 7, 5.4) ]\n",
    "\n",
    "df_1 = pd.DataFrame(data_1, columns=['name', 'age', 'height'])\n",
    "print(df_1)"
   ]
  },
  {
   "cell_type": "code",
   "execution_count": 42,
   "metadata": {},
   "outputs": [
    {
     "data": {
      "text/plain": [
       "0       ram\n",
       "1     shyam\n",
       "2      gham\n",
       "3    tester\n",
       "Name: name, dtype: object"
      ]
     },
     "execution_count": 42,
     "metadata": {},
     "output_type": "execute_result"
    }
   ],
   "source": [
    "# Each data frame is composed of multiple Series\n",
    "df_1['name']"
   ]
  },
  {
   "cell_type": "code",
   "execution_count": 43,
   "metadata": {},
   "outputs": [
    {
     "data": {
      "text/plain": [
       "Index(['name', 'age', 'height'], dtype='object')"
      ]
     },
     "execution_count": 43,
     "metadata": {},
     "output_type": "execute_result"
    }
   ],
   "source": [
    "df_1.columns"
   ]
  },
  {
   "cell_type": "code",
   "execution_count": 36,
   "metadata": {},
   "outputs": [
    {
     "data": {
      "text/plain": [
       "name       object\n",
       "age         int64\n",
       "height    float64\n",
       "dtype: object"
      ]
     },
     "execution_count": 36,
     "metadata": {},
     "output_type": "execute_result"
    }
   ],
   "source": [
    "# Find the datatype of all the columns\n",
    "df_1.dtypes"
   ]
  },
  {
   "cell_type": "markdown",
   "metadata": {},
   "source": [
    "## Changing index column from 0,1,2,3,4 to something else (here 'name')"
   ]
  },
  {
   "cell_type": "code",
   "execution_count": 44,
   "metadata": {},
   "outputs": [
    {
     "name": "stdout",
     "output_type": "stream",
     "text": [
      "        age  height\n",
      "name               \n",
      "ram      90     7.6\n",
      "shyam     2     5.6\n",
      "gham     98     6.2\n",
      "tester    7     5.4\n",
      "Index(['age', 'height'], dtype='object')\n"
     ]
    }
   ],
   "source": [
    "# Changing the index column\n",
    "df_1 = df_1.set_index('name')\n",
    "\n",
    "print(df_1)\n",
    "print(df_1.columns) # name is no longer a column (it was changed to index)"
   ]
  },
  {
   "cell_type": "code",
   "execution_count": 38,
   "metadata": {},
   "outputs": [
    {
     "data": {
      "text/plain": [
       "name\n",
       "ram       90\n",
       "shyam      2\n",
       "gham      98\n",
       "tester     7\n",
       "Name: age, dtype: int64"
      ]
     },
     "execution_count": 38,
     "metadata": {},
     "output_type": "execute_result"
    }
   ],
   "source": [
    "# Read a col\n",
    "df_1['age']"
   ]
  },
  {
   "cell_type": "code",
   "execution_count": 39,
   "metadata": {},
   "outputs": [
    {
     "data": {
      "text/plain": [
       "age       90.0\n",
       "height     7.6\n",
       "Name: ram, dtype: float64"
      ]
     },
     "execution_count": 39,
     "metadata": {},
     "output_type": "execute_result"
    }
   ],
   "source": [
    "# Read a row\n",
    "df_1.loc['ram']"
   ]
  },
  {
   "cell_type": "code",
   "execution_count": 48,
   "metadata": {},
   "outputs": [
    {
     "data": {
      "text/plain": [
       "(4, 2)"
      ]
     },
     "execution_count": 48,
     "metadata": {},
     "output_type": "execute_result"
    }
   ],
   "source": [
    "df_1.shape"
   ]
  },
  {
   "cell_type": "markdown",
   "metadata": {},
   "source": [
    "## Changing dataype of a column"
   ]
  },
  {
   "cell_type": "code",
   "execution_count": 61,
   "metadata": {},
   "outputs": [
    {
     "name": "stdout",
     "output_type": "stream",
     "text": [
      "        age  height\n",
      "name               \n",
      "ram      90       7\n",
      "shyam     2       5\n",
      "gham     98       6\n",
      "tester    7       5\n"
     ]
    }
   ],
   "source": [
    "df_1['height'] = df_1['height'].astype('int')\n",
    "\n",
    "print(df_1)"
   ]
  },
  {
   "cell_type": "markdown",
   "metadata": {},
   "source": [
    "## Creating new col"
   ]
  },
  {
   "cell_type": "code",
   "execution_count": null,
   "metadata": {},
   "outputs": [],
   "source": [
    "df_1['new_col']"
   ]
  },
  {
   "cell_type": "code",
   "execution_count": 64,
   "metadata": {},
   "outputs": [
    {
     "name": "stdout",
     "output_type": "stream",
     "text": [
      "        age  height   new_col\n",
      "name                         \n",
      "ram      90       7  0.077778\n",
      "shyam     2       5  2.500000\n",
      "gham     98       6  0.061224\n",
      "tester    7       5  0.714286\n"
     ]
    }
   ],
   "source": [
    "df_1['new_col'] = df_1['height'] / df_1['age']\n",
    "\n",
    "print(df_1)"
   ]
  },
  {
   "cell_type": "markdown",
   "metadata": {},
   "source": [
    "## Plotting"
   ]
  },
  {
   "cell_type": "code",
   "execution_count": 69,
   "metadata": {},
   "outputs": [
    {
     "data": {
      "text/plain": [
       "<AxesSubplot:title={'center':'histogram title'}, ylabel='Frequency'>"
      ]
     },
     "execution_count": 69,
     "metadata": {},
     "output_type": "execute_result"
    },
    {
     "data": {
      "image/png": "[encoded data removed]",
      "text/plain": [
       "<Figure size 360x360 with 1 Axes>"
      ]
     },
     "metadata": {
      "needs_background": "light"
     },
     "output_type": "display_data"
    }
   ],
   "source": [
    "# Histogram\n",
    "df_1.plot(kind='hist', bins=50, title='histogram title', figsize=(5,5))"
   ]
  },
  {
   "cell_type": "code",
   "execution_count": 71,
   "metadata": {},
   "outputs": [
    {
     "data": {
      "text/plain": [
       "<AxesSubplot:title={'center':'age vs height count'}, xlabel='age', ylabel='height'>"
      ]
     },
     "execution_count": 71,
     "metadata": {},
     "output_type": "execute_result"
    },
    {
     "data": {
      "image/png": "[encoded data removed]",
      "text/plain": [
       "<Figure size 432x288 with 1 Axes>"
      ]
     },
     "metadata": {
      "needs_background": "light"
     },
     "output_type": "display_data"
    }
   ],
   "source": [
    "# Scatter plot\n",
    "df_1.plot(kind='scatter', x='age', y='height', title='age vs height count')"
   ]
  },
  {
   "cell_type": "markdown",
   "metadata": {},
   "source": [
    "## Saving a dataframe"
   ]
  },
  {
   "cell_type": "code",
   "execution_count": 72,
   "metadata": {},
   "outputs": [],
   "source": [
    "df_1.to_csv('output.csv')"
   ]
  },
  {
   "cell_type": "markdown",
   "metadata": {},
   "source": [
    "## Loading Data into a dataframe"
   ]
  },
  {
   "cell_type": "code",
   "execution_count": 24,
   "metadata": {},
   "outputs": [
    {
     "name": "stderr",
     "output_type": "stream",
     "text": [
      "\n",
      "CondaValueError: invalid package specification: #\n",
      "\n"
     ]
    }
   ],
   "source": [
    "!conda install openpyxl  # Needed for reading excel"
   ]
  },
  {
   "cell_type": "code",
   "execution_count": 25,
   "metadata": {},
   "outputs": [
    {
     "data": {
      "text/html": [
       "<div>\n",
       "<style scoped>\n",
       "    .dataframe tbody tr th:only-of-type {\n",
       "        vertical-align: middle;\n",
       "    }\n",
       "\n",
       "    .dataframe tbody tr th {\n",
       "        vertical-align: top;\n",
       "    }\n",
       "\n",
       "    .dataframe thead th {\n",
       "        text-align: right;\n",
       "    }\n",
       "</style>\n",
       "<table border=\"1\" class=\"dataframe\">\n",
       "  <thead>\n",
       "    <tr style=\"text-align: right;\">\n",
       "      <th></th>\n",
       "      <th>Col1</th>\n",
       "      <th>Col2</th>\n",
       "      <th>Col3</th>\n",
       "      <th>ColX</th>\n",
       "      <th>ColY</th>\n",
       "      <th>ColZ</th>\n",
       "    </tr>\n",
       "  </thead>\n",
       "  <tbody>\n",
       "    <tr>\n",
       "      <th>0</th>\n",
       "      <td>71.498436</td>\n",
       "      <td>7</td>\n",
       "      <td>36.0</td>\n",
       "      <td>352.255882</td>\n",
       "      <td>732.553714</td>\n",
       "      <td>BIKE</td>\n",
       "    </tr>\n",
       "    <tr>\n",
       "      <th>1</th>\n",
       "      <td>17.956901</td>\n",
       "      <td>10</td>\n",
       "      <td>68.0</td>\n",
       "      <td>115.345990</td>\n",
       "      <td>332.931977</td>\n",
       "      <td>CAR</td>\n",
       "    </tr>\n",
       "    <tr>\n",
       "      <th>2</th>\n",
       "      <td>14.929322</td>\n",
       "      <td>6</td>\n",
       "      <td>32.0</td>\n",
       "      <td>174.437312</td>\n",
       "      <td>220.937104</td>\n",
       "      <td>CYCLE</td>\n",
       "    </tr>\n",
       "    <tr>\n",
       "      <th>3</th>\n",
       "      <td>45.702541</td>\n",
       "      <td>4</td>\n",
       "      <td>34.0</td>\n",
       "      <td>124.597932</td>\n",
       "      <td>38.977847</td>\n",
       "      <td>CYCLE</td>\n",
       "    </tr>\n",
       "    <tr>\n",
       "      <th>4</th>\n",
       "      <td>96.676599</td>\n",
       "      <td>2</td>\n",
       "      <td>6.0</td>\n",
       "      <td>12.586074</td>\n",
       "      <td>149.704278</td>\n",
       "      <td>NaN</td>\n",
       "    </tr>\n",
       "    <tr>\n",
       "      <th>5</th>\n",
       "      <td>38.666686</td>\n",
       "      <td>4</td>\n",
       "      <td>74.0</td>\n",
       "      <td>5.328834</td>\n",
       "      <td>713.282264</td>\n",
       "      <td>CYCLE</td>\n",
       "    </tr>\n",
       "    <tr>\n",
       "      <th>6</th>\n",
       "      <td>3.878606</td>\n",
       "      <td>4</td>\n",
       "      <td>40.0</td>\n",
       "      <td>82.931257</td>\n",
       "      <td>67.779861</td>\n",
       "      <td>CYCLE</td>\n",
       "    </tr>\n",
       "    <tr>\n",
       "      <th>7</th>\n",
       "      <td>78.793465</td>\n",
       "      <td>9</td>\n",
       "      <td>2.0</td>\n",
       "      <td>156.132930</td>\n",
       "      <td>113.694820</td>\n",
       "      <td>CYCLE</td>\n",
       "    </tr>\n",
       "    <tr>\n",
       "      <th>8</th>\n",
       "      <td>18.187895</td>\n",
       "      <td>9</td>\n",
       "      <td>8.0</td>\n",
       "      <td>884.925352</td>\n",
       "      <td>267.292954</td>\n",
       "      <td>BIKE</td>\n",
       "    </tr>\n",
       "    <tr>\n",
       "      <th>9</th>\n",
       "      <td>64.662811</td>\n",
       "      <td>2</td>\n",
       "      <td>57.0</td>\n",
       "      <td>322.193543</td>\n",
       "      <td>114.734475</td>\n",
       "      <td>BIKE</td>\n",
       "    </tr>\n",
       "    <tr>\n",
       "      <th>10</th>\n",
       "      <td>48.105475</td>\n",
       "      <td>9</td>\n",
       "      <td>33.0</td>\n",
       "      <td>232.410644</td>\n",
       "      <td>565.303631</td>\n",
       "      <td>BIKE</td>\n",
       "    </tr>\n",
       "    <tr>\n",
       "      <th>11</th>\n",
       "      <td>48.347856</td>\n",
       "      <td>3</td>\n",
       "      <td>35.0</td>\n",
       "      <td>140.705772</td>\n",
       "      <td>156.567207</td>\n",
       "      <td>BIKE</td>\n",
       "    </tr>\n",
       "    <tr>\n",
       "      <th>12</th>\n",
       "      <td>90.857124</td>\n",
       "      <td>3</td>\n",
       "      <td>NaN</td>\n",
       "      <td>673.799210</td>\n",
       "      <td>114.324660</td>\n",
       "      <td>CYCLE</td>\n",
       "    </tr>\n",
       "    <tr>\n",
       "      <th>13</th>\n",
       "      <td>45.607160</td>\n",
       "      <td>1</td>\n",
       "      <td>NaN</td>\n",
       "      <td>17.900406</td>\n",
       "      <td>116.687005</td>\n",
       "      <td>CAR</td>\n",
       "    </tr>\n",
       "    <tr>\n",
       "      <th>14</th>\n",
       "      <td>23.889049</td>\n",
       "      <td>3</td>\n",
       "      <td>NaN</td>\n",
       "      <td>607.793399</td>\n",
       "      <td>3.078456</td>\n",
       "      <td>CYCLE</td>\n",
       "    </tr>\n",
       "    <tr>\n",
       "      <th>15</th>\n",
       "      <td>40.423044</td>\n",
       "      <td>7</td>\n",
       "      <td>NaN</td>\n",
       "      <td>NaN</td>\n",
       "      <td>105.027885</td>\n",
       "      <td>CYCLE</td>\n",
       "    </tr>\n",
       "    <tr>\n",
       "      <th>16</th>\n",
       "      <td>20.159351</td>\n",
       "      <td>4</td>\n",
       "      <td>25.0</td>\n",
       "      <td>487.824454</td>\n",
       "      <td>148.684656</td>\n",
       "      <td>CAR</td>\n",
       "    </tr>\n",
       "    <tr>\n",
       "      <th>17</th>\n",
       "      <td>36.747679</td>\n",
       "      <td>0</td>\n",
       "      <td>3.0</td>\n",
       "      <td>20.377178</td>\n",
       "      <td>21.589040</td>\n",
       "      <td>JET</td>\n",
       "    </tr>\n",
       "    <tr>\n",
       "      <th>18</th>\n",
       "      <td>59.367416</td>\n",
       "      <td>6</td>\n",
       "      <td>99.0</td>\n",
       "      <td>471.019195</td>\n",
       "      <td>200.975318</td>\n",
       "      <td>CAR</td>\n",
       "    </tr>\n",
       "    <tr>\n",
       "      <th>19</th>\n",
       "      <td>16.875504</td>\n",
       "      <td>2</td>\n",
       "      <td>90.0</td>\n",
       "      <td>143.937241</td>\n",
       "      <td>182.765071</td>\n",
       "      <td>JET</td>\n",
       "    </tr>\n",
       "    <tr>\n",
       "      <th>20</th>\n",
       "      <td>51.196401</td>\n",
       "      <td>2</td>\n",
       "      <td>16.0</td>\n",
       "      <td>131.825812</td>\n",
       "      <td>497.949865</td>\n",
       "      <td>JET</td>\n",
       "    </tr>\n",
       "    <tr>\n",
       "      <th>21</th>\n",
       "      <td>12.022286</td>\n",
       "      <td>3</td>\n",
       "      <td>60.0</td>\n",
       "      <td>9.150044</td>\n",
       "      <td>45.938443</td>\n",
       "      <td>JET</td>\n",
       "    </tr>\n",
       "    <tr>\n",
       "      <th>22</th>\n",
       "      <td>95.304490</td>\n",
       "      <td>8</td>\n",
       "      <td>13.0</td>\n",
       "      <td>417.465791</td>\n",
       "      <td>9.907030</td>\n",
       "      <td>BIKE</td>\n",
       "    </tr>\n",
       "    <tr>\n",
       "      <th>23</th>\n",
       "      <td>50.814068</td>\n",
       "      <td>8</td>\n",
       "      <td>83.0</td>\n",
       "      <td>NaN</td>\n",
       "      <td>93.040035</td>\n",
       "      <td>NaN</td>\n",
       "    </tr>\n",
       "    <tr>\n",
       "      <th>24</th>\n",
       "      <td>28.990477</td>\n",
       "      <td>2</td>\n",
       "      <td>43.0</td>\n",
       "      <td>NaN</td>\n",
       "      <td>244.219894</td>\n",
       "      <td>BIKE</td>\n",
       "    </tr>\n",
       "    <tr>\n",
       "      <th>25</th>\n",
       "      <td>7.457016</td>\n",
       "      <td>9</td>\n",
       "      <td>46.0</td>\n",
       "      <td>168.557753</td>\n",
       "      <td>692.884394</td>\n",
       "      <td>JET</td>\n",
       "    </tr>\n",
       "    <tr>\n",
       "      <th>26</th>\n",
       "      <td>56.685440</td>\n",
       "      <td>10</td>\n",
       "      <td>68.0</td>\n",
       "      <td>128.027951</td>\n",
       "      <td>300.529520</td>\n",
       "      <td>CAR</td>\n",
       "    </tr>\n",
       "    <tr>\n",
       "      <th>27</th>\n",
       "      <td>66.862467</td>\n",
       "      <td>3</td>\n",
       "      <td>100.0</td>\n",
       "      <td>628.117833</td>\n",
       "      <td>373.297118</td>\n",
       "      <td>CAR</td>\n",
       "    </tr>\n",
       "    <tr>\n",
       "      <th>28</th>\n",
       "      <td>40.494010</td>\n",
       "      <td>7</td>\n",
       "      <td>34.0</td>\n",
       "      <td>3.226088</td>\n",
       "      <td>68.118384</td>\n",
       "      <td>CAR</td>\n",
       "    </tr>\n",
       "  </tbody>\n",
       "</table>\n",
       "</div>"
      ],
      "text/plain": [
       "         Col1  Col2  Col3         ColX        ColY   ColZ\n",
       "0   71.498436     7   36.0  352.255882  732.553714   BIKE\n",
       "1   17.956901    10   68.0  115.345990  332.931977    CAR\n",
       "2   14.929322     6   32.0  174.437312  220.937104  CYCLE\n",
       "3   45.702541     4   34.0  124.597932   38.977847  CYCLE\n",
       "4   96.676599     2    6.0   12.586074  149.704278    NaN\n",
       "5   38.666686     4   74.0    5.328834  713.282264  CYCLE\n",
       "6    3.878606     4   40.0   82.931257   67.779861  CYCLE\n",
       "7   78.793465     9    2.0  156.132930  113.694820  CYCLE\n",
       "8   18.187895     9    8.0  884.925352  267.292954   BIKE\n",
       "9   64.662811     2   57.0  322.193543  114.734475   BIKE\n",
       "10  48.105475     9   33.0  232.410644  565.303631   BIKE\n",
       "11  48.347856     3   35.0  140.705772  156.567207   BIKE\n",
       "12  90.857124     3    NaN  673.799210  114.324660  CYCLE\n",
       "13  45.607160     1    NaN   17.900406  116.687005    CAR\n",
       "14  23.889049     3    NaN  607.793399    3.078456  CYCLE\n",
       "15  40.423044     7    NaN         NaN  105.027885  CYCLE\n",
       "16  20.159351     4   25.0  487.824454  148.684656    CAR\n",
       "17  36.747679     0    3.0   20.377178   21.589040    JET\n",
       "18  59.367416     6   99.0  471.019195  200.975318    CAR\n",
       "19  16.875504     2   90.0  143.937241  182.765071    JET\n",
       "20  51.196401     2   16.0  131.825812  497.949865    JET\n",
       "21  12.022286     3   60.0    9.150044   45.938443    JET\n",
       "22  95.304490     8   13.0  417.465791    9.907030   BIKE\n",
       "23  50.814068     8   83.0         NaN   93.040035    NaN\n",
       "24  28.990477     2   43.0         NaN  244.219894   BIKE\n",
       "25   7.457016     9   46.0  168.557753  692.884394    JET\n",
       "26  56.685440    10   68.0  128.027951  300.529520    CAR\n",
       "27  66.862467     3  100.0  628.117833  373.297118    CAR\n",
       "28  40.494010     7   34.0    3.226088   68.118384    CAR"
      ]
     },
     "execution_count": 25,
     "metadata": {},
     "output_type": "execute_result"
    }
   ],
   "source": [
    "#pd.read_csv\n",
    "#pd.read_json\n",
    "#pd.read_hdf\n",
    "ExcelData = pd.read_excel('dataTest.xlsx')\n",
    "ExcelData"
   ]
  },
  {
   "cell_type": "markdown",
   "metadata": {},
   "source": [
    "## Check datatype"
   ]
  },
  {
   "cell_type": "code",
   "execution_count": 27,
   "metadata": {},
   "outputs": [
    {
     "name": "stdout",
     "output_type": "stream",
     "text": [
      "Col1     float64\n",
      "Col2       int64\n",
      "Col3     float64\n",
      "ColX     float64\n",
      "ColY     float64\n",
      "ColZ      object\n",
      "dtype: object\n",
      "---------\n",
      "float64\n",
      "int64\n",
      "object\n"
     ]
    }
   ],
   "source": [
    "print(ExcelData.dtypes)\n",
    "print('---------')\n",
    "print(ExcelData['Col1'].dtype)\n",
    "print(ExcelData['Col2'].dtype)\n",
    "print(ExcelData['ColZ'].dtype)"
   ]
  },
  {
   "cell_type": "markdown",
   "metadata": {},
   "source": [
    "## Head and Tail"
   ]
  },
  {
   "cell_type": "code",
   "execution_count": 65,
   "metadata": {},
   "outputs": [
    {
     "data": {
      "text/html": [
       "<div>\n",
       "<style scoped>\n",
       "    .dataframe tbody tr th:only-of-type {\n",
       "        vertical-align: middle;\n",
       "    }\n",
       "\n",
       "    .dataframe tbody tr th {\n",
       "        vertical-align: top;\n",
       "    }\n",
       "\n",
       "    .dataframe thead th {\n",
       "        text-align: right;\n",
       "    }\n",
       "</style>\n",
       "<table border=\"1\" class=\"dataframe\">\n",
       "  <thead>\n",
       "    <tr style=\"text-align: right;\">\n",
       "      <th></th>\n",
       "      <th>Col1</th>\n",
       "      <th>Col2</th>\n",
       "      <th>Col3</th>\n",
       "      <th>ColX</th>\n",
       "      <th>ColY</th>\n",
       "      <th>ColZ</th>\n",
       "    </tr>\n",
       "  </thead>\n",
       "  <tbody>\n",
       "    <tr>\n",
       "      <th>0</th>\n",
       "      <td>71.498436</td>\n",
       "      <td>7</td>\n",
       "      <td>36.0</td>\n",
       "      <td>352.255882</td>\n",
       "      <td>732.553714</td>\n",
       "      <td>BIKE</td>\n",
       "    </tr>\n",
       "    <tr>\n",
       "      <th>1</th>\n",
       "      <td>17.956901</td>\n",
       "      <td>10</td>\n",
       "      <td>68.0</td>\n",
       "      <td>115.345990</td>\n",
       "      <td>332.931977</td>\n",
       "      <td>CAR</td>\n",
       "    </tr>\n",
       "    <tr>\n",
       "      <th>2</th>\n",
       "      <td>14.929322</td>\n",
       "      <td>6</td>\n",
       "      <td>32.0</td>\n",
       "      <td>174.437312</td>\n",
       "      <td>220.937104</td>\n",
       "      <td>CYCLE</td>\n",
       "    </tr>\n",
       "  </tbody>\n",
       "</table>\n",
       "</div>"
      ],
      "text/plain": [
       "        Col1  Col2  Col3         ColX        ColY   ColZ\n",
       "0  71.498436     7   36.0  352.255882  732.553714   BIKE\n",
       "1  17.956901    10   68.0  115.345990  332.931977    CAR\n",
       "2  14.929322     6   32.0  174.437312  220.937104  CYCLE"
      ]
     },
     "execution_count": 65,
     "metadata": {},
     "output_type": "execute_result"
    }
   ],
   "source": [
    "ExcelData.head(3) #First 3 data"
   ]
  },
  {
   "cell_type": "code",
   "execution_count": 66,
   "metadata": {},
   "outputs": [
    {
     "data": {
      "text/html": [
       "<div>\n",
       "<style scoped>\n",
       "    .dataframe tbody tr th:only-of-type {\n",
       "        vertical-align: middle;\n",
       "    }\n",
       "\n",
       "    .dataframe tbody tr th {\n",
       "        vertical-align: top;\n",
       "    }\n",
       "\n",
       "    .dataframe thead th {\n",
       "        text-align: right;\n",
       "    }\n",
       "</style>\n",
       "<table border=\"1\" class=\"dataframe\">\n",
       "  <thead>\n",
       "    <tr style=\"text-align: right;\">\n",
       "      <th></th>\n",
       "      <th>Col1</th>\n",
       "      <th>Col2</th>\n",
       "      <th>Col3</th>\n",
       "      <th>ColX</th>\n",
       "      <th>ColY</th>\n",
       "      <th>ColZ</th>\n",
       "    </tr>\n",
       "  </thead>\n",
       "  <tbody>\n",
       "    <tr>\n",
       "      <th>26</th>\n",
       "      <td>56.685440</td>\n",
       "      <td>10</td>\n",
       "      <td>68.0</td>\n",
       "      <td>128.027951</td>\n",
       "      <td>300.529520</td>\n",
       "      <td>CAR</td>\n",
       "    </tr>\n",
       "    <tr>\n",
       "      <th>27</th>\n",
       "      <td>66.862467</td>\n",
       "      <td>3</td>\n",
       "      <td>100.0</td>\n",
       "      <td>628.117833</td>\n",
       "      <td>373.297118</td>\n",
       "      <td>CAR</td>\n",
       "    </tr>\n",
       "    <tr>\n",
       "      <th>28</th>\n",
       "      <td>40.494010</td>\n",
       "      <td>7</td>\n",
       "      <td>34.0</td>\n",
       "      <td>3.226088</td>\n",
       "      <td>68.118384</td>\n",
       "      <td>CAR</td>\n",
       "    </tr>\n",
       "  </tbody>\n",
       "</table>\n",
       "</div>"
      ],
      "text/plain": [
       "         Col1  Col2  Col3         ColX        ColY ColZ\n",
       "26  56.685440    10   68.0  128.027951  300.529520  CAR\n",
       "27  66.862467     3  100.0  628.117833  373.297118  CAR\n",
       "28  40.494010     7   34.0    3.226088   68.118384  CAR"
      ]
     },
     "execution_count": 66,
     "metadata": {},
     "output_type": "execute_result"
    }
   ],
   "source": [
    "ExcelData.tail(3) #Last 3 data"
   ]
  },
  {
   "cell_type": "markdown",
   "metadata": {},
   "source": [
    "## Describe (works only on the numeric columns)"
   ]
  },
  {
   "cell_type": "code",
   "execution_count": 29,
   "metadata": {},
   "outputs": [
    {
     "data": {
      "text/html": [
       "<div>\n",
       "<style scoped>\n",
       "    .dataframe tbody tr th:only-of-type {\n",
       "        vertical-align: middle;\n",
       "    }\n",
       "\n",
       "    .dataframe tbody tr th {\n",
       "        vertical-align: top;\n",
       "    }\n",
       "\n",
       "    .dataframe thead th {\n",
       "        text-align: right;\n",
       "    }\n",
       "</style>\n",
       "<table border=\"1\" class=\"dataframe\">\n",
       "  <thead>\n",
       "    <tr style=\"text-align: right;\">\n",
       "      <th></th>\n",
       "      <th>Col1</th>\n",
       "      <th>Col2</th>\n",
       "      <th>Col3</th>\n",
       "      <th>ColX</th>\n",
       "      <th>ColY</th>\n",
       "    </tr>\n",
       "  </thead>\n",
       "  <tbody>\n",
       "    <tr>\n",
       "      <th>count</th>\n",
       "      <td>29.000000</td>\n",
       "      <td>29.000000</td>\n",
       "      <td>25.00000</td>\n",
       "      <td>26.000000</td>\n",
       "      <td>29.000000</td>\n",
       "    </tr>\n",
       "    <tr>\n",
       "      <th>mean</th>\n",
       "      <td>44.522744</td>\n",
       "      <td>5.068966</td>\n",
       "      <td>44.20000</td>\n",
       "      <td>250.495149</td>\n",
       "      <td>230.785411</td>\n",
       "    </tr>\n",
       "    <tr>\n",
       "      <th>std</th>\n",
       "      <td>26.216715</td>\n",
       "      <td>3.022901</td>\n",
       "      <td>29.71812</td>\n",
       "      <td>243.297611</td>\n",
       "      <td>215.270935</td>\n",
       "    </tr>\n",
       "    <tr>\n",
       "      <th>min</th>\n",
       "      <td>3.878606</td>\n",
       "      <td>0.000000</td>\n",
       "      <td>2.00000</td>\n",
       "      <td>3.226088</td>\n",
       "      <td>3.078456</td>\n",
       "    </tr>\n",
       "    <tr>\n",
       "      <th>25%</th>\n",
       "      <td>20.159351</td>\n",
       "      <td>3.000000</td>\n",
       "      <td>25.00000</td>\n",
       "      <td>91.034940</td>\n",
       "      <td>93.040035</td>\n",
       "    </tr>\n",
       "    <tr>\n",
       "      <th>50%</th>\n",
       "      <td>45.607160</td>\n",
       "      <td>4.000000</td>\n",
       "      <td>36.00000</td>\n",
       "      <td>150.035086</td>\n",
       "      <td>149.704278</td>\n",
       "    </tr>\n",
       "    <tr>\n",
       "      <th>75%</th>\n",
       "      <td>59.367416</td>\n",
       "      <td>8.000000</td>\n",
       "      <td>68.00000</td>\n",
       "      <td>401.163313</td>\n",
       "      <td>300.529520</td>\n",
       "    </tr>\n",
       "    <tr>\n",
       "      <th>max</th>\n",
       "      <td>96.676599</td>\n",
       "      <td>10.000000</td>\n",
       "      <td>100.00000</td>\n",
       "      <td>884.925352</td>\n",
       "      <td>732.553714</td>\n",
       "    </tr>\n",
       "  </tbody>\n",
       "</table>\n",
       "</div>"
      ],
      "text/plain": [
       "            Col1       Col2      Col3         ColX        ColY\n",
       "count  29.000000  29.000000   25.00000   26.000000   29.000000\n",
       "mean   44.522744   5.068966   44.20000  250.495149  230.785411\n",
       "std    26.216715   3.022901   29.71812  243.297611  215.270935\n",
       "min     3.878606   0.000000    2.00000    3.226088    3.078456\n",
       "25%    20.159351   3.000000   25.00000   91.034940   93.040035\n",
       "50%    45.607160   4.000000   36.00000  150.035086  149.704278\n",
       "75%    59.367416   8.000000   68.00000  401.163313  300.529520\n",
       "max    96.676599  10.000000  100.00000  884.925352  732.553714"
      ]
     },
     "execution_count": 29,
     "metadata": {},
     "output_type": "execute_result"
    }
   ],
   "source": [
    "# Shows the basic statistics\n",
    "ExcelData.describe()"
   ]
  },
  {
   "cell_type": "markdown",
   "metadata": {},
   "source": [
    "## Slicing"
   ]
  },
  {
   "cell_type": "code",
   "execution_count": 44,
   "metadata": {},
   "outputs": [
    {
     "data": {
      "text/html": [
       "<div>\n",
       "<style scoped>\n",
       "    .dataframe tbody tr th:only-of-type {\n",
       "        vertical-align: middle;\n",
       "    }\n",
       "\n",
       "    .dataframe tbody tr th {\n",
       "        vertical-align: top;\n",
       "    }\n",
       "\n",
       "    .dataframe thead th {\n",
       "        text-align: right;\n",
       "    }\n",
       "</style>\n",
       "<table border=\"1\" class=\"dataframe\">\n",
       "  <thead>\n",
       "    <tr style=\"text-align: right;\">\n",
       "      <th></th>\n",
       "      <th>Col1</th>\n",
       "      <th>ColZ</th>\n",
       "    </tr>\n",
       "  </thead>\n",
       "  <tbody>\n",
       "    <tr>\n",
       "      <th>0</th>\n",
       "      <td>71.498436</td>\n",
       "      <td>BIKE</td>\n",
       "    </tr>\n",
       "    <tr>\n",
       "      <th>1</th>\n",
       "      <td>17.956901</td>\n",
       "      <td>CAR</td>\n",
       "    </tr>\n",
       "    <tr>\n",
       "      <th>2</th>\n",
       "      <td>14.929322</td>\n",
       "      <td>CYCLE</td>\n",
       "    </tr>\n",
       "    <tr>\n",
       "      <th>3</th>\n",
       "      <td>45.702541</td>\n",
       "      <td>CYCLE</td>\n",
       "    </tr>\n",
       "    <tr>\n",
       "      <th>4</th>\n",
       "      <td>96.676599</td>\n",
       "      <td>NaN</td>\n",
       "    </tr>\n",
       "  </tbody>\n",
       "</table>\n",
       "</div>"
      ],
      "text/plain": [
       "        Col1   ColZ\n",
       "0  71.498436   BIKE\n",
       "1  17.956901    CAR\n",
       "2  14.929322  CYCLE\n",
       "3  45.702541  CYCLE\n",
       "4  96.676599    NaN"
      ]
     },
     "execution_count": 44,
     "metadata": {},
     "output_type": "execute_result"
    }
   ],
   "source": [
    "ExcelData[['Col1','ColZ']].head()"
   ]
  },
  {
   "cell_type": "markdown",
   "metadata": {},
   "source": [
    "## Slicing: loc - [row range , list of column names]"
   ]
  },
  {
   "cell_type": "code",
   "execution_count": 30,
   "metadata": {},
   "outputs": [
    {
     "data": {
      "text/plain": [
       "Col1      96.676599\n",
       "Col2              2\n",
       "Col3            6.0\n",
       "ColX      12.586074\n",
       "ColY     149.704278\n",
       "ColZ            NaN\n",
       "Name: 4, dtype: object"
      ]
     },
     "execution_count": 30,
     "metadata": {},
     "output_type": "execute_result"
    }
   ],
   "source": [
    "# see a specific row\n",
    "ExcelData.loc[4]"
   ]
  },
  {
   "cell_type": "code",
   "execution_count": 69,
   "metadata": {},
   "outputs": [
    {
     "data": {
      "text/plain": [
       "3    45.702541\n",
       "4    96.676599\n",
       "5    38.666686\n",
       "Name: Col1, dtype: float64"
      ]
     },
     "execution_count": 69,
     "metadata": {},
     "output_type": "execute_result"
    }
   ],
   "source": [
    "ExcelData.loc[3:5, 'Col1']"
   ]
  },
  {
   "cell_type": "code",
   "execution_count": 70,
   "metadata": {},
   "outputs": [
    {
     "data": {
      "text/html": [
       "<div>\n",
       "<style scoped>\n",
       "    .dataframe tbody tr th:only-of-type {\n",
       "        vertical-align: middle;\n",
       "    }\n",
       "\n",
       "    .dataframe tbody tr th {\n",
       "        vertical-align: top;\n",
       "    }\n",
       "\n",
       "    .dataframe thead th {\n",
       "        text-align: right;\n",
       "    }\n",
       "</style>\n",
       "<table border=\"1\" class=\"dataframe\">\n",
       "  <thead>\n",
       "    <tr style=\"text-align: right;\">\n",
       "      <th></th>\n",
       "      <th>Col1</th>\n",
       "      <th>ColZ</th>\n",
       "    </tr>\n",
       "  </thead>\n",
       "  <tbody>\n",
       "    <tr>\n",
       "      <th>5</th>\n",
       "      <td>38.666686</td>\n",
       "      <td>CYCLE</td>\n",
       "    </tr>\n",
       "    <tr>\n",
       "      <th>6</th>\n",
       "      <td>3.878606</td>\n",
       "      <td>CYCLE</td>\n",
       "    </tr>\n",
       "    <tr>\n",
       "      <th>7</th>\n",
       "      <td>78.793465</td>\n",
       "      <td>CYCLE</td>\n",
       "    </tr>\n",
       "    <tr>\n",
       "      <th>8</th>\n",
       "      <td>18.187895</td>\n",
       "      <td>BIKE</td>\n",
       "    </tr>\n",
       "    <tr>\n",
       "      <th>9</th>\n",
       "      <td>64.662811</td>\n",
       "      <td>BIKE</td>\n",
       "    </tr>\n",
       "    <tr>\n",
       "      <th>10</th>\n",
       "      <td>48.105475</td>\n",
       "      <td>BIKE</td>\n",
       "    </tr>\n",
       "  </tbody>\n",
       "</table>\n",
       "</div>"
      ],
      "text/plain": [
       "         Col1   ColZ\n",
       "5   38.666686  CYCLE\n",
       "6    3.878606  CYCLE\n",
       "7   78.793465  CYCLE\n",
       "8   18.187895   BIKE\n",
       "9   64.662811   BIKE\n",
       "10  48.105475   BIKE"
      ]
     },
     "execution_count": 70,
     "metadata": {},
     "output_type": "execute_result"
    }
   ],
   "source": [
    "ExcelData.loc[5:10, ['Col1','ColZ']]"
   ]
  },
  {
   "cell_type": "markdown",
   "metadata": {},
   "source": [
    "## Slicing: iloc [row range , column range]"
   ]
  },
  {
   "cell_type": "code",
   "execution_count": 93,
   "metadata": {},
   "outputs": [
    {
     "data": {
      "text/plain": [
       "Col1     38.6667\n",
       "Col2           4\n",
       "Col3          74\n",
       "ColX     5.32883\n",
       "ColY     713.282\n",
       "ColZ       CYCLE\n",
       "Name: 5, dtype: object"
      ]
     },
     "execution_count": 93,
     "metadata": {},
     "output_type": "execute_result"
    }
   ],
   "source": [
    "ExcelData.iloc[5]"
   ]
  },
  {
   "cell_type": "code",
   "execution_count": 75,
   "metadata": {},
   "outputs": [
    {
     "data": {
      "text/html": [
       "<div>\n",
       "<style scoped>\n",
       "    .dataframe tbody tr th:only-of-type {\n",
       "        vertical-align: middle;\n",
       "    }\n",
       "\n",
       "    .dataframe tbody tr th {\n",
       "        vertical-align: top;\n",
       "    }\n",
       "\n",
       "    .dataframe thead th {\n",
       "        text-align: right;\n",
       "    }\n",
       "</style>\n",
       "<table border=\"1\" class=\"dataframe\">\n",
       "  <thead>\n",
       "    <tr style=\"text-align: right;\">\n",
       "      <th></th>\n",
       "      <th>Col3</th>\n",
       "      <th>ColX</th>\n",
       "      <th>ColY</th>\n",
       "      <th>ColZ</th>\n",
       "    </tr>\n",
       "  </thead>\n",
       "  <tbody>\n",
       "    <tr>\n",
       "      <th>5</th>\n",
       "      <td>74.0</td>\n",
       "      <td>5.328834</td>\n",
       "      <td>713.282264</td>\n",
       "      <td>CYCLE</td>\n",
       "    </tr>\n",
       "    <tr>\n",
       "      <th>6</th>\n",
       "      <td>40.0</td>\n",
       "      <td>82.931257</td>\n",
       "      <td>67.779861</td>\n",
       "      <td>CYCLE</td>\n",
       "    </tr>\n",
       "    <tr>\n",
       "      <th>7</th>\n",
       "      <td>2.0</td>\n",
       "      <td>156.132930</td>\n",
       "      <td>113.694820</td>\n",
       "      <td>CYCLE</td>\n",
       "    </tr>\n",
       "    <tr>\n",
       "      <th>8</th>\n",
       "      <td>8.0</td>\n",
       "      <td>884.925352</td>\n",
       "      <td>267.292954</td>\n",
       "      <td>BIKE</td>\n",
       "    </tr>\n",
       "    <tr>\n",
       "      <th>9</th>\n",
       "      <td>57.0</td>\n",
       "      <td>322.193543</td>\n",
       "      <td>114.734475</td>\n",
       "      <td>BIKE</td>\n",
       "    </tr>\n",
       "  </tbody>\n",
       "</table>\n",
       "</div>"
      ],
      "text/plain": [
       "   Col3         ColX        ColY   ColZ\n",
       "5   74.0    5.328834  713.282264  CYCLE\n",
       "6   40.0   82.931257   67.779861  CYCLE\n",
       "7    2.0  156.132930  113.694820  CYCLE\n",
       "8    8.0  884.925352  267.292954   BIKE\n",
       "9   57.0  322.193543  114.734475   BIKE"
      ]
     },
     "execution_count": 75,
     "metadata": {},
     "output_type": "execute_result"
    }
   ],
   "source": [
    "ExcelData.iloc[5:10, 2:6]"
   ]
  },
  {
   "cell_type": "markdown",
   "metadata": {},
   "source": [
    "## Delete columns"
   ]
  },
  {
   "cell_type": "code",
   "execution_count": 46,
   "metadata": {},
   "outputs": [
    {
     "name": "stdout",
     "output_type": "stream",
     "text": [
      "          ColX        ColY\n",
      "0   352.255882  732.553714\n",
      "1   115.345990  332.931977\n",
      "2   174.437312  220.937104\n",
      "3   124.597932   38.977847\n",
      "4    12.586074  149.704278\n",
      "5     5.328834  713.282264\n",
      "6    82.931257   67.779861\n",
      "7   156.132930  113.694820\n",
      "8   884.925352  267.292954\n",
      "9   322.193543  114.734475\n",
      "10  232.410644  565.303631\n",
      "11  140.705772  156.567207\n",
      "12  673.799210  114.324660\n",
      "13   17.900406  116.687005\n",
      "14  607.793399    3.078456\n",
      "15         NaN  105.027885\n",
      "16  487.824454  148.684656\n",
      "17   20.377178   21.589040\n",
      "18  471.019195  200.975318\n",
      "19  143.937241  182.765071\n",
      "20  131.825812  497.949865\n",
      "21    9.150044   45.938443\n",
      "22  417.465791    9.907030\n",
      "23         NaN   93.040035\n",
      "24         NaN  244.219894\n",
      "25  168.557753  692.884394\n",
      "26  128.027951  300.529520\n",
      "27  628.117833  373.297118\n",
      "28    3.226088   68.118384\n"
     ]
    }
   ],
   "source": [
    "# Option 1\n",
    "subset_of_cols_df = ExcelData[['ColX', 'ColY']]\n",
    "print(subset_of_cols_df)"
   ]
  },
  {
   "cell_type": "code",
   "execution_count": 47,
   "metadata": {},
   "outputs": [
    {
     "data": {
      "text/html": [
       "<div>\n",
       "<style scoped>\n",
       "    .dataframe tbody tr th:only-of-type {\n",
       "        vertical-align: middle;\n",
       "    }\n",
       "\n",
       "    .dataframe tbody tr th {\n",
       "        vertical-align: top;\n",
       "    }\n",
       "\n",
       "    .dataframe thead th {\n",
       "        text-align: right;\n",
       "    }\n",
       "</style>\n",
       "<table border=\"1\" class=\"dataframe\">\n",
       "  <thead>\n",
       "    <tr style=\"text-align: right;\">\n",
       "      <th></th>\n",
       "      <th>Col1</th>\n",
       "      <th>Col3</th>\n",
       "    </tr>\n",
       "  </thead>\n",
       "  <tbody>\n",
       "    <tr>\n",
       "      <th>0</th>\n",
       "      <td>71.498436</td>\n",
       "      <td>36.0</td>\n",
       "    </tr>\n",
       "    <tr>\n",
       "      <th>1</th>\n",
       "      <td>17.956901</td>\n",
       "      <td>68.0</td>\n",
       "    </tr>\n",
       "    <tr>\n",
       "      <th>2</th>\n",
       "      <td>14.929322</td>\n",
       "      <td>32.0</td>\n",
       "    </tr>\n",
       "    <tr>\n",
       "      <th>3</th>\n",
       "      <td>45.702541</td>\n",
       "      <td>34.0</td>\n",
       "    </tr>\n",
       "    <tr>\n",
       "      <th>4</th>\n",
       "      <td>96.676599</td>\n",
       "      <td>6.0</td>\n",
       "    </tr>\n",
       "  </tbody>\n",
       "</table>\n",
       "</div>"
      ],
      "text/plain": [
       "        Col1  Col3 \n",
       "0  71.498436   36.0\n",
       "1  17.956901   68.0\n",
       "2  14.929322   32.0\n",
       "3  45.702541   34.0\n",
       "4  96.676599    6.0"
      ]
     },
     "execution_count": 47,
     "metadata": {},
     "output_type": "execute_result"
    }
   ],
   "source": [
    "# Option 2\n",
    "ExcelData.drop(columns = ['Col2','ColX','ColY','ColZ']).head()"
   ]
  },
  {
   "cell_type": "code",
   "execution_count": 100,
   "metadata": {},
   "outputs": [
    {
     "data": {
      "text/html": [
       "<div>\n",
       "<style scoped>\n",
       "    .dataframe tbody tr th:only-of-type {\n",
       "        vertical-align: middle;\n",
       "    }\n",
       "\n",
       "    .dataframe tbody tr th {\n",
       "        vertical-align: top;\n",
       "    }\n",
       "\n",
       "    .dataframe thead th {\n",
       "        text-align: right;\n",
       "    }\n",
       "</style>\n",
       "<table border=\"1\" class=\"dataframe\">\n",
       "  <thead>\n",
       "    <tr style=\"text-align: right;\">\n",
       "      <th></th>\n",
       "      <th>Col1</th>\n",
       "      <th>Col3</th>\n",
       "    </tr>\n",
       "  </thead>\n",
       "  <tbody>\n",
       "    <tr>\n",
       "      <th>0</th>\n",
       "      <td>71.498436</td>\n",
       "      <td>36.0</td>\n",
       "    </tr>\n",
       "    <tr>\n",
       "      <th>1</th>\n",
       "      <td>17.956901</td>\n",
       "      <td>68.0</td>\n",
       "    </tr>\n",
       "    <tr>\n",
       "      <th>2</th>\n",
       "      <td>14.929322</td>\n",
       "      <td>32.0</td>\n",
       "    </tr>\n",
       "    <tr>\n",
       "      <th>3</th>\n",
       "      <td>45.702541</td>\n",
       "      <td>34.0</td>\n",
       "    </tr>\n",
       "    <tr>\n",
       "      <th>4</th>\n",
       "      <td>96.676599</td>\n",
       "      <td>6.0</td>\n",
       "    </tr>\n",
       "  </tbody>\n",
       "</table>\n",
       "</div>"
      ],
      "text/plain": [
       "        Col1  Col3 \n",
       "0  71.498436   36.0\n",
       "1  17.956901   68.0\n",
       "2  14.929322   32.0\n",
       "3  45.702541   34.0\n",
       "4  96.676599    6.0"
      ]
     },
     "execution_count": 100,
     "metadata": {},
     "output_type": "execute_result"
    }
   ],
   "source": [
    "HeadData = ExcelData.head()\n",
    "HeadData.drop(['Col2','ColX','ColY','ColZ'], axis=1)"
   ]
  },
  {
   "cell_type": "markdown",
   "metadata": {},
   "source": [
    "## Delete rows"
   ]
  },
  {
   "cell_type": "code",
   "execution_count": 98,
   "metadata": {},
   "outputs": [
    {
     "data": {
      "text/html": [
       "<div>\n",
       "<style scoped>\n",
       "    .dataframe tbody tr th:only-of-type {\n",
       "        vertical-align: middle;\n",
       "    }\n",
       "\n",
       "    .dataframe tbody tr th {\n",
       "        vertical-align: top;\n",
       "    }\n",
       "\n",
       "    .dataframe thead th {\n",
       "        text-align: right;\n",
       "    }\n",
       "</style>\n",
       "<table border=\"1\" class=\"dataframe\">\n",
       "  <thead>\n",
       "    <tr style=\"text-align: right;\">\n",
       "      <th></th>\n",
       "      <th>Col1</th>\n",
       "      <th>Col2</th>\n",
       "      <th>Col3</th>\n",
       "      <th>ColX</th>\n",
       "      <th>ColY</th>\n",
       "      <th>ColZ</th>\n",
       "    </tr>\n",
       "  </thead>\n",
       "  <tbody>\n",
       "    <tr>\n",
       "      <th>0</th>\n",
       "      <td>71.498436</td>\n",
       "      <td>7</td>\n",
       "      <td>36.0</td>\n",
       "      <td>352.255882</td>\n",
       "      <td>732.553714</td>\n",
       "      <td>BIKE</td>\n",
       "    </tr>\n",
       "    <tr>\n",
       "      <th>4</th>\n",
       "      <td>96.676599</td>\n",
       "      <td>2</td>\n",
       "      <td>6.0</td>\n",
       "      <td>12.586074</td>\n",
       "      <td>149.704278</td>\n",
       "      <td>NaN</td>\n",
       "    </tr>\n",
       "  </tbody>\n",
       "</table>\n",
       "</div>"
      ],
      "text/plain": [
       "        Col1  Col2  Col3         ColX        ColY  ColZ\n",
       "0  71.498436     7   36.0  352.255882  732.553714  BIKE\n",
       "4  96.676599     2    6.0   12.586074  149.704278   NaN"
      ]
     },
     "execution_count": 98,
     "metadata": {},
     "output_type": "execute_result"
    }
   ],
   "source": [
    "HeadData = ExcelData.head()\n",
    "HeadData.drop([1,2,3], axis=0)"
   ]
  },
  {
   "cell_type": "markdown",
   "metadata": {},
   "source": [
    "## Converting to numpy array"
   ]
  },
  {
   "cell_type": "code",
   "execution_count": 50,
   "metadata": {},
   "outputs": [
    {
     "data": {
      "text/plain": [
       "numpy.ndarray"
      ]
     },
     "execution_count": 50,
     "metadata": {},
     "output_type": "execute_result"
    }
   ],
   "source": [
    "type(ExcelData.values)\n"
   ]
  },
  {
   "cell_type": "markdown",
   "metadata": {},
   "source": [
    "## Summary of the table"
   ]
  },
  {
   "cell_type": "code",
   "execution_count": 13,
   "metadata": {},
   "outputs": [
    {
     "name": "stdout",
     "output_type": "stream",
     "text": [
      "<class 'pandas.core.frame.DataFrame'>\n",
      "RangeIndex: 29 entries, 0 to 28\n",
      "Data columns (total 6 columns):\n",
      " #   Column  Non-Null Count  Dtype  \n",
      "---  ------  --------------  -----  \n",
      " 0   Col1    29 non-null     float64\n",
      " 1   Col2    29 non-null     int64  \n",
      " 2   Col3    25 non-null     float64\n",
      " 3   ColX    26 non-null     float64\n",
      " 4   ColY    29 non-null     float64\n",
      " 5   ColZ    27 non-null     object \n",
      "dtypes: float64(4), int64(1), object(1)\n",
      "memory usage: 1.5+ KB\n"
     ]
    }
   ],
   "source": [
    "ExcelData.info()"
   ]
  },
  {
   "cell_type": "code",
   "execution_count": 38,
   "metadata": {},
   "outputs": [
    {
     "data": {
      "text/plain": [
       "CYCLE    8\n",
       "BIKE     7\n",
       "CAR      7\n",
       "JET      5\n",
       "Name: ColZ, dtype: int64"
      ]
     },
     "execution_count": 38,
     "metadata": {},
     "output_type": "execute_result"
    }
   ],
   "source": [
    "ExcelData['ColZ'].value_counts()"
   ]
  },
  {
   "cell_type": "code",
   "execution_count": 15,
   "metadata": {},
   "outputs": [
    {
     "name": "stdout",
     "output_type": "stream",
     "text": [
      "size =  174\n",
      "shape =  (29, 6)\n"
     ]
    }
   ],
   "source": [
    "print('size = ', ExcelData.size)\n",
    "print('shape = ', ExcelData.shape)"
   ]
  },
  {
   "cell_type": "markdown",
   "metadata": {},
   "source": [
    "## Pandas Dataframe vs Series"
   ]
  },
  {
   "cell_type": "code",
   "execution_count": 25,
   "metadata": {},
   "outputs": [
    {
     "name": "stdout",
     "output_type": "stream",
     "text": [
      "<class 'pandas.core.series.Series'>\n",
      "<class 'pandas.core.frame.DataFrame'>\n"
     ]
    }
   ],
   "source": [
    "Col1 = ExcelData['Col1'] # This is a pandas series\n",
    "print(type(Col1))\n",
    "\n",
    "Col1 = ExcelData[['Col1']] # This is a pandas Dataframe\n",
    "print(type(Col1))"
   ]
  },
  {
   "cell_type": "markdown",
   "metadata": {},
   "source": [
    "# Filters"
   ]
  },
  {
   "cell_type": "code",
   "execution_count": 58,
   "metadata": {},
   "outputs": [
    {
     "name": "stdout",
     "output_type": "stream",
     "text": [
      "0    False\n",
      "1     True\n",
      "2    False\n",
      "3    False\n",
      "4    False\n",
      "Name: ColZ, dtype: bool\n"
     ]
    }
   ],
   "source": [
    "ColZ_equals_CAR = ExcelData['ColZ'] == 'CAR' #Create a filter\n",
    "print(ColZ_equals_CAR.head())"
   ]
  },
  {
   "cell_type": "code",
   "execution_count": 60,
   "metadata": {},
   "outputs": [
    {
     "data": {
      "text/html": [
       "<div>\n",
       "<style scoped>\n",
       "    .dataframe tbody tr th:only-of-type {\n",
       "        vertical-align: middle;\n",
       "    }\n",
       "\n",
       "    .dataframe tbody tr th {\n",
       "        vertical-align: top;\n",
       "    }\n",
       "\n",
       "    .dataframe thead th {\n",
       "        text-align: right;\n",
       "    }\n",
       "</style>\n",
       "<table border=\"1\" class=\"dataframe\">\n",
       "  <thead>\n",
       "    <tr style=\"text-align: right;\">\n",
       "      <th></th>\n",
       "      <th>Col1</th>\n",
       "      <th>Col2</th>\n",
       "      <th>Col3</th>\n",
       "      <th>ColX</th>\n",
       "      <th>ColY</th>\n",
       "      <th>ColZ</th>\n",
       "    </tr>\n",
       "  </thead>\n",
       "  <tbody>\n",
       "    <tr>\n",
       "      <th>1</th>\n",
       "      <td>17.956901</td>\n",
       "      <td>10</td>\n",
       "      <td>68.0</td>\n",
       "      <td>115.345990</td>\n",
       "      <td>332.931977</td>\n",
       "      <td>CAR</td>\n",
       "    </tr>\n",
       "    <tr>\n",
       "      <th>13</th>\n",
       "      <td>45.607160</td>\n",
       "      <td>1</td>\n",
       "      <td>NaN</td>\n",
       "      <td>17.900406</td>\n",
       "      <td>116.687005</td>\n",
       "      <td>CAR</td>\n",
       "    </tr>\n",
       "    <tr>\n",
       "      <th>16</th>\n",
       "      <td>20.159351</td>\n",
       "      <td>4</td>\n",
       "      <td>25.0</td>\n",
       "      <td>487.824454</td>\n",
       "      <td>148.684656</td>\n",
       "      <td>CAR</td>\n",
       "    </tr>\n",
       "    <tr>\n",
       "      <th>18</th>\n",
       "      <td>59.367416</td>\n",
       "      <td>6</td>\n",
       "      <td>99.0</td>\n",
       "      <td>471.019195</td>\n",
       "      <td>200.975318</td>\n",
       "      <td>CAR</td>\n",
       "    </tr>\n",
       "    <tr>\n",
       "      <th>26</th>\n",
       "      <td>56.685440</td>\n",
       "      <td>10</td>\n",
       "      <td>68.0</td>\n",
       "      <td>128.027951</td>\n",
       "      <td>300.529520</td>\n",
       "      <td>CAR</td>\n",
       "    </tr>\n",
       "    <tr>\n",
       "      <th>27</th>\n",
       "      <td>66.862467</td>\n",
       "      <td>3</td>\n",
       "      <td>100.0</td>\n",
       "      <td>628.117833</td>\n",
       "      <td>373.297118</td>\n",
       "      <td>CAR</td>\n",
       "    </tr>\n",
       "    <tr>\n",
       "      <th>28</th>\n",
       "      <td>40.494010</td>\n",
       "      <td>7</td>\n",
       "      <td>34.0</td>\n",
       "      <td>3.226088</td>\n",
       "      <td>68.118384</td>\n",
       "      <td>CAR</td>\n",
       "    </tr>\n",
       "  </tbody>\n",
       "</table>\n",
       "</div>"
      ],
      "text/plain": [
       "         Col1  Col2  Col3         ColX        ColY ColZ\n",
       "1   17.956901    10   68.0  115.345990  332.931977  CAR\n",
       "13  45.607160     1    NaN   17.900406  116.687005  CAR\n",
       "16  20.159351     4   25.0  487.824454  148.684656  CAR\n",
       "18  59.367416     6   99.0  471.019195  200.975318  CAR\n",
       "26  56.685440    10   68.0  128.027951  300.529520  CAR\n",
       "27  66.862467     3  100.0  628.117833  373.297118  CAR\n",
       "28  40.494010     7   34.0    3.226088   68.118384  CAR"
      ]
     },
     "execution_count": 60,
     "metadata": {},
     "output_type": "execute_result"
    }
   ],
   "source": [
    "ExcelData[ColZ_equals_CAR]"
   ]
  },
  {
   "cell_type": "code",
   "execution_count": 61,
   "metadata": {},
   "outputs": [
    {
     "data": {
      "text/html": [
       "<div>\n",
       "<style scoped>\n",
       "    .dataframe tbody tr th:only-of-type {\n",
       "        vertical-align: middle;\n",
       "    }\n",
       "\n",
       "    .dataframe tbody tr th {\n",
       "        vertical-align: top;\n",
       "    }\n",
       "\n",
       "    .dataframe thead th {\n",
       "        text-align: right;\n",
       "    }\n",
       "</style>\n",
       "<table border=\"1\" class=\"dataframe\">\n",
       "  <thead>\n",
       "    <tr style=\"text-align: right;\">\n",
       "      <th></th>\n",
       "      <th>Col1</th>\n",
       "      <th>Col2</th>\n",
       "      <th>ColZ</th>\n",
       "    </tr>\n",
       "  </thead>\n",
       "  <tbody>\n",
       "    <tr>\n",
       "      <th>1</th>\n",
       "      <td>17.956901</td>\n",
       "      <td>10</td>\n",
       "      <td>CAR</td>\n",
       "    </tr>\n",
       "    <tr>\n",
       "      <th>13</th>\n",
       "      <td>45.607160</td>\n",
       "      <td>1</td>\n",
       "      <td>CAR</td>\n",
       "    </tr>\n",
       "    <tr>\n",
       "      <th>16</th>\n",
       "      <td>20.159351</td>\n",
       "      <td>4</td>\n",
       "      <td>CAR</td>\n",
       "    </tr>\n",
       "    <tr>\n",
       "      <th>18</th>\n",
       "      <td>59.367416</td>\n",
       "      <td>6</td>\n",
       "      <td>CAR</td>\n",
       "    </tr>\n",
       "    <tr>\n",
       "      <th>26</th>\n",
       "      <td>56.685440</td>\n",
       "      <td>10</td>\n",
       "      <td>CAR</td>\n",
       "    </tr>\n",
       "    <tr>\n",
       "      <th>27</th>\n",
       "      <td>66.862467</td>\n",
       "      <td>3</td>\n",
       "      <td>CAR</td>\n",
       "    </tr>\n",
       "    <tr>\n",
       "      <th>28</th>\n",
       "      <td>40.494010</td>\n",
       "      <td>7</td>\n",
       "      <td>CAR</td>\n",
       "    </tr>\n",
       "  </tbody>\n",
       "</table>\n",
       "</div>"
      ],
      "text/plain": [
       "         Col1  Col2 ColZ\n",
       "1   17.956901    10  CAR\n",
       "13  45.607160     1  CAR\n",
       "16  20.159351     4  CAR\n",
       "18  59.367416     6  CAR\n",
       "26  56.685440    10  CAR\n",
       "27  66.862467     3  CAR\n",
       "28  40.494010     7  CAR"
      ]
     },
     "execution_count": 61,
     "metadata": {},
     "output_type": "execute_result"
    }
   ],
   "source": [
    "ExcelData.loc[Col1_greater_than_30, ['Col1','Col2','ColZ']]"
   ]
  },
  {
   "cell_type": "markdown",
   "metadata": {},
   "source": [
    "### Using multiple filters"
   ]
  },
  {
   "cell_type": "code",
   "execution_count": 62,
   "metadata": {},
   "outputs": [],
   "source": [
    "col2_greaterthan_4 = ExcelData['Col2'] > 4"
   ]
  },
  {
   "cell_type": "code",
   "execution_count": 63,
   "metadata": {},
   "outputs": [
    {
     "data": {
      "text/html": [
       "<div>\n",
       "<style scoped>\n",
       "    .dataframe tbody tr th:only-of-type {\n",
       "        vertical-align: middle;\n",
       "    }\n",
       "\n",
       "    .dataframe tbody tr th {\n",
       "        vertical-align: top;\n",
       "    }\n",
       "\n",
       "    .dataframe thead th {\n",
       "        text-align: right;\n",
       "    }\n",
       "</style>\n",
       "<table border=\"1\" class=\"dataframe\">\n",
       "  <thead>\n",
       "    <tr style=\"text-align: right;\">\n",
       "      <th></th>\n",
       "      <th>Col1</th>\n",
       "      <th>Col2</th>\n",
       "      <th>ColZ</th>\n",
       "    </tr>\n",
       "  </thead>\n",
       "  <tbody>\n",
       "    <tr>\n",
       "      <th>1</th>\n",
       "      <td>17.956901</td>\n",
       "      <td>10</td>\n",
       "      <td>CAR</td>\n",
       "    </tr>\n",
       "    <tr>\n",
       "      <th>18</th>\n",
       "      <td>59.367416</td>\n",
       "      <td>6</td>\n",
       "      <td>CAR</td>\n",
       "    </tr>\n",
       "    <tr>\n",
       "      <th>26</th>\n",
       "      <td>56.685440</td>\n",
       "      <td>10</td>\n",
       "      <td>CAR</td>\n",
       "    </tr>\n",
       "    <tr>\n",
       "      <th>28</th>\n",
       "      <td>40.494010</td>\n",
       "      <td>7</td>\n",
       "      <td>CAR</td>\n",
       "    </tr>\n",
       "  </tbody>\n",
       "</table>\n",
       "</div>"
      ],
      "text/plain": [
       "         Col1  Col2 ColZ\n",
       "1   17.956901    10  CAR\n",
       "18  59.367416     6  CAR\n",
       "26  56.685440    10  CAR\n",
       "28  40.494010     7  CAR"
      ]
     },
     "execution_count": 63,
     "metadata": {},
     "output_type": "execute_result"
    }
   ],
   "source": [
    "ExcelData.loc[Col1_greater_than_30 & col2_greaterthan_4, ['Col1','Col2','ColZ']]"
   ]
  },
  {
   "cell_type": "markdown",
   "metadata": {},
   "source": [
    "# Filtering using Query"
   ]
  },
  {
   "cell_type": "code",
   "execution_count": 57,
   "metadata": {},
   "outputs": [
    {
     "data": {
      "text/html": [
       "<div>\n",
       "<style scoped>\n",
       "    .dataframe tbody tr th:only-of-type {\n",
       "        vertical-align: middle;\n",
       "    }\n",
       "\n",
       "    .dataframe tbody tr th {\n",
       "        vertical-align: top;\n",
       "    }\n",
       "\n",
       "    .dataframe thead th {\n",
       "        text-align: right;\n",
       "    }\n",
       "</style>\n",
       "<table border=\"1\" class=\"dataframe\">\n",
       "  <thead>\n",
       "    <tr style=\"text-align: right;\">\n",
       "      <th></th>\n",
       "      <th>Col1</th>\n",
       "      <th>Col2</th>\n",
       "      <th>Col3</th>\n",
       "      <th>ColX</th>\n",
       "      <th>ColY</th>\n",
       "      <th>ColZ</th>\n",
       "    </tr>\n",
       "  </thead>\n",
       "  <tbody>\n",
       "    <tr>\n",
       "      <th>0</th>\n",
       "      <td>71.498436</td>\n",
       "      <td>7</td>\n",
       "      <td>36.0</td>\n",
       "      <td>352.255882</td>\n",
       "      <td>732.553714</td>\n",
       "      <td>BIKE</td>\n",
       "    </tr>\n",
       "    <tr>\n",
       "      <th>9</th>\n",
       "      <td>64.662811</td>\n",
       "      <td>2</td>\n",
       "      <td>57.0</td>\n",
       "      <td>322.193543</td>\n",
       "      <td>114.734475</td>\n",
       "      <td>BIKE</td>\n",
       "    </tr>\n",
       "    <tr>\n",
       "      <th>22</th>\n",
       "      <td>95.304490</td>\n",
       "      <td>8</td>\n",
       "      <td>13.0</td>\n",
       "      <td>417.465791</td>\n",
       "      <td>9.907030</td>\n",
       "      <td>BIKE</td>\n",
       "    </tr>\n",
       "  </tbody>\n",
       "</table>\n",
       "</div>"
      ],
      "text/plain": [
       "         Col1  Col2  Col3         ColX        ColY  ColZ\n",
       "0   71.498436     7   36.0  352.255882  732.553714  BIKE\n",
       "9   64.662811     2   57.0  322.193543  114.734475  BIKE\n",
       "22  95.304490     8   13.0  417.465791    9.907030  BIKE"
      ]
     },
     "execution_count": 57,
     "metadata": {},
     "output_type": "execute_result"
    }
   ],
   "source": [
    "ExcelData.query('Col1 >= 60').query('ColZ == \\'BIKE\\'')"
   ]
  },
  {
   "cell_type": "markdown",
   "metadata": {},
   "source": [
    "## Analysis"
   ]
  },
  {
   "cell_type": "markdown",
   "metadata": {},
   "source": [
    "### Get the rows with missing values"
   ]
  },
  {
   "cell_type": "code",
   "execution_count": 81,
   "metadata": {},
   "outputs": [
    {
     "data": {
      "text/html": [
       "<div>\n",
       "<style scoped>\n",
       "    .dataframe tbody tr th:only-of-type {\n",
       "        vertical-align: middle;\n",
       "    }\n",
       "\n",
       "    .dataframe tbody tr th {\n",
       "        vertical-align: top;\n",
       "    }\n",
       "\n",
       "    .dataframe thead th {\n",
       "        text-align: right;\n",
       "    }\n",
       "</style>\n",
       "<table border=\"1\" class=\"dataframe\">\n",
       "  <thead>\n",
       "    <tr style=\"text-align: right;\">\n",
       "      <th></th>\n",
       "      <th>Col1</th>\n",
       "      <th>Col2</th>\n",
       "      <th>Col3</th>\n",
       "      <th>ColX</th>\n",
       "      <th>ColY</th>\n",
       "      <th>ColZ</th>\n",
       "    </tr>\n",
       "  </thead>\n",
       "  <tbody>\n",
       "    <tr>\n",
       "      <th>0</th>\n",
       "      <td>False</td>\n",
       "      <td>False</td>\n",
       "      <td>False</td>\n",
       "      <td>False</td>\n",
       "      <td>False</td>\n",
       "      <td>False</td>\n",
       "    </tr>\n",
       "    <tr>\n",
       "      <th>1</th>\n",
       "      <td>False</td>\n",
       "      <td>False</td>\n",
       "      <td>False</td>\n",
       "      <td>False</td>\n",
       "      <td>False</td>\n",
       "      <td>False</td>\n",
       "    </tr>\n",
       "    <tr>\n",
       "      <th>2</th>\n",
       "      <td>False</td>\n",
       "      <td>False</td>\n",
       "      <td>False</td>\n",
       "      <td>False</td>\n",
       "      <td>False</td>\n",
       "      <td>False</td>\n",
       "    </tr>\n",
       "    <tr>\n",
       "      <th>3</th>\n",
       "      <td>False</td>\n",
       "      <td>False</td>\n",
       "      <td>False</td>\n",
       "      <td>False</td>\n",
       "      <td>False</td>\n",
       "      <td>False</td>\n",
       "    </tr>\n",
       "    <tr>\n",
       "      <th>4</th>\n",
       "      <td>False</td>\n",
       "      <td>False</td>\n",
       "      <td>False</td>\n",
       "      <td>False</td>\n",
       "      <td>False</td>\n",
       "      <td>True</td>\n",
       "    </tr>\n",
       "  </tbody>\n",
       "</table>\n",
       "</div>"
      ],
      "text/plain": [
       "    Col1   Col2  Col3    ColX   ColY   ColZ\n",
       "0  False  False  False  False  False  False\n",
       "1  False  False  False  False  False  False\n",
       "2  False  False  False  False  False  False\n",
       "3  False  False  False  False  False  False\n",
       "4  False  False  False  False  False   True"
      ]
     },
     "execution_count": 81,
     "metadata": {},
     "output_type": "execute_result"
    }
   ],
   "source": [
    "missing_data_filter = ExcelData.isna()\n",
    "missing_data_filter.head()"
   ]
  },
  {
   "cell_type": "code",
   "execution_count": 82,
   "metadata": {},
   "outputs": [
    {
     "data": {
      "text/plain": [
       "0    False\n",
       "1    False\n",
       "2    False\n",
       "3    False\n",
       "4     True\n",
       "dtype: bool"
      ]
     },
     "execution_count": 82,
     "metadata": {},
     "output_type": "execute_result"
    }
   ],
   "source": [
    "missing_data_filter = missing_data_filter.any(axis = 1)\n",
    "missing_data_filter.head()"
   ]
  },
  {
   "cell_type": "code",
   "execution_count": 88,
   "metadata": {},
   "outputs": [
    {
     "name": "stdout",
     "output_type": "stream",
     "text": [
      "Data points with NaN\n"
     ]
    },
    {
     "data": {
      "text/html": [
       "<div>\n",
       "<style scoped>\n",
       "    .dataframe tbody tr th:only-of-type {\n",
       "        vertical-align: middle;\n",
       "    }\n",
       "\n",
       "    .dataframe tbody tr th {\n",
       "        vertical-align: top;\n",
       "    }\n",
       "\n",
       "    .dataframe thead th {\n",
       "        text-align: right;\n",
       "    }\n",
       "</style>\n",
       "<table border=\"1\" class=\"dataframe\">\n",
       "  <thead>\n",
       "    <tr style=\"text-align: right;\">\n",
       "      <th></th>\n",
       "      <th>Col1</th>\n",
       "      <th>Col2</th>\n",
       "      <th>Col3</th>\n",
       "      <th>ColX</th>\n",
       "      <th>ColY</th>\n",
       "      <th>ColZ</th>\n",
       "    </tr>\n",
       "  </thead>\n",
       "  <tbody>\n",
       "    <tr>\n",
       "      <th>4</th>\n",
       "      <td>96.676599</td>\n",
       "      <td>2</td>\n",
       "      <td>6.0</td>\n",
       "      <td>12.586074</td>\n",
       "      <td>149.704278</td>\n",
       "      <td>NaN</td>\n",
       "    </tr>\n",
       "    <tr>\n",
       "      <th>12</th>\n",
       "      <td>90.857124</td>\n",
       "      <td>3</td>\n",
       "      <td>NaN</td>\n",
       "      <td>673.799210</td>\n",
       "      <td>114.324660</td>\n",
       "      <td>CYCLE</td>\n",
       "    </tr>\n",
       "    <tr>\n",
       "      <th>13</th>\n",
       "      <td>45.607160</td>\n",
       "      <td>1</td>\n",
       "      <td>NaN</td>\n",
       "      <td>17.900406</td>\n",
       "      <td>116.687005</td>\n",
       "      <td>CAR</td>\n",
       "    </tr>\n",
       "    <tr>\n",
       "      <th>14</th>\n",
       "      <td>23.889049</td>\n",
       "      <td>3</td>\n",
       "      <td>NaN</td>\n",
       "      <td>607.793399</td>\n",
       "      <td>3.078456</td>\n",
       "      <td>CYCLE</td>\n",
       "    </tr>\n",
       "    <tr>\n",
       "      <th>15</th>\n",
       "      <td>40.423044</td>\n",
       "      <td>7</td>\n",
       "      <td>NaN</td>\n",
       "      <td>NaN</td>\n",
       "      <td>105.027885</td>\n",
       "      <td>CYCLE</td>\n",
       "    </tr>\n",
       "    <tr>\n",
       "      <th>23</th>\n",
       "      <td>50.814068</td>\n",
       "      <td>8</td>\n",
       "      <td>83.0</td>\n",
       "      <td>NaN</td>\n",
       "      <td>93.040035</td>\n",
       "      <td>NaN</td>\n",
       "    </tr>\n",
       "    <tr>\n",
       "      <th>24</th>\n",
       "      <td>28.990477</td>\n",
       "      <td>2</td>\n",
       "      <td>43.0</td>\n",
       "      <td>NaN</td>\n",
       "      <td>244.219894</td>\n",
       "      <td>BIKE</td>\n",
       "    </tr>\n",
       "  </tbody>\n",
       "</table>\n",
       "</div>"
      ],
      "text/plain": [
       "         Col1  Col2  Col3         ColX        ColY   ColZ\n",
       "4   96.676599     2    6.0   12.586074  149.704278    NaN\n",
       "12  90.857124     3    NaN  673.799210  114.324660  CYCLE\n",
       "13  45.607160     1    NaN   17.900406  116.687005    CAR\n",
       "14  23.889049     3    NaN  607.793399    3.078456  CYCLE\n",
       "15  40.423044     7    NaN         NaN  105.027885  CYCLE\n",
       "23  50.814068     8   83.0         NaN   93.040035    NaN\n",
       "24  28.990477     2   43.0         NaN  244.219894   BIKE"
      ]
     },
     "execution_count": 88,
     "metadata": {},
     "output_type": "execute_result"
    }
   ],
   "source": [
    "print('Data points with NaN')\n",
    "DataPointsWithNaN = ExcelData[missing_data_filter]\n",
    "DataPointsWithNaN"
   ]
  },
  {
   "cell_type": "code",
   "execution_count": null,
   "metadata": {},
   "outputs": [],
   "source": []
  },
  {
   "cell_type": "markdown",
   "metadata": {},
   "source": [
    "## Filling missing data"
   ]
  },
  {
   "cell_type": "code",
   "execution_count": 90,
   "metadata": {},
   "outputs": [
    {
     "data": {
      "text/html": [
       "<div>\n",
       "<style scoped>\n",
       "    .dataframe tbody tr th:only-of-type {\n",
       "        vertical-align: middle;\n",
       "    }\n",
       "\n",
       "    .dataframe tbody tr th {\n",
       "        vertical-align: top;\n",
       "    }\n",
       "\n",
       "    .dataframe thead th {\n",
       "        text-align: right;\n",
       "    }\n",
       "</style>\n",
       "<table border=\"1\" class=\"dataframe\">\n",
       "  <thead>\n",
       "    <tr style=\"text-align: right;\">\n",
       "      <th></th>\n",
       "      <th>Col1</th>\n",
       "      <th>Col2</th>\n",
       "      <th>Col3</th>\n",
       "      <th>ColX</th>\n",
       "      <th>ColY</th>\n",
       "      <th>ColZ</th>\n",
       "    </tr>\n",
       "  </thead>\n",
       "  <tbody>\n",
       "    <tr>\n",
       "      <th>4</th>\n",
       "      <td>96.676599</td>\n",
       "      <td>2</td>\n",
       "      <td>6.0</td>\n",
       "      <td>12.586074</td>\n",
       "      <td>149.704278</td>\n",
       "      <td>999999</td>\n",
       "    </tr>\n",
       "    <tr>\n",
       "      <th>12</th>\n",
       "      <td>90.857124</td>\n",
       "      <td>3</td>\n",
       "      <td>999999.0</td>\n",
       "      <td>673.799210</td>\n",
       "      <td>114.324660</td>\n",
       "      <td>CYCLE</td>\n",
       "    </tr>\n",
       "    <tr>\n",
       "      <th>13</th>\n",
       "      <td>45.607160</td>\n",
       "      <td>1</td>\n",
       "      <td>999999.0</td>\n",
       "      <td>17.900406</td>\n",
       "      <td>116.687005</td>\n",
       "      <td>CAR</td>\n",
       "    </tr>\n",
       "    <tr>\n",
       "      <th>14</th>\n",
       "      <td>23.889049</td>\n",
       "      <td>3</td>\n",
       "      <td>999999.0</td>\n",
       "      <td>607.793399</td>\n",
       "      <td>3.078456</td>\n",
       "      <td>CYCLE</td>\n",
       "    </tr>\n",
       "    <tr>\n",
       "      <th>15</th>\n",
       "      <td>40.423044</td>\n",
       "      <td>7</td>\n",
       "      <td>999999.0</td>\n",
       "      <td>999999.000000</td>\n",
       "      <td>105.027885</td>\n",
       "      <td>CYCLE</td>\n",
       "    </tr>\n",
       "    <tr>\n",
       "      <th>23</th>\n",
       "      <td>50.814068</td>\n",
       "      <td>8</td>\n",
       "      <td>83.0</td>\n",
       "      <td>999999.000000</td>\n",
       "      <td>93.040035</td>\n",
       "      <td>999999</td>\n",
       "    </tr>\n",
       "    <tr>\n",
       "      <th>24</th>\n",
       "      <td>28.990477</td>\n",
       "      <td>2</td>\n",
       "      <td>43.0</td>\n",
       "      <td>999999.000000</td>\n",
       "      <td>244.219894</td>\n",
       "      <td>BIKE</td>\n",
       "    </tr>\n",
       "  </tbody>\n",
       "</table>\n",
       "</div>"
      ],
      "text/plain": [
       "         Col1  Col2     Col3            ColX        ColY    ColZ\n",
       "4   96.676599     2       6.0      12.586074  149.704278  999999\n",
       "12  90.857124     3  999999.0     673.799210  114.324660   CYCLE\n",
       "13  45.607160     1  999999.0      17.900406  116.687005     CAR\n",
       "14  23.889049     3  999999.0     607.793399    3.078456   CYCLE\n",
       "15  40.423044     7  999999.0  999999.000000  105.027885   CYCLE\n",
       "23  50.814068     8      83.0  999999.000000   93.040035  999999\n",
       "24  28.990477     2      43.0  999999.000000  244.219894    BIKE"
      ]
     },
     "execution_count": 90,
     "metadata": {},
     "output_type": "execute_result"
    }
   ],
   "source": [
    "DataPointsWithNaN.fillna(999999) #Fill missing data with a fixed value"
   ]
  },
  {
   "cell_type": "code",
   "execution_count": 92,
   "metadata": {},
   "outputs": [
    {
     "data": {
      "text/html": [
       "<div>\n",
       "<style scoped>\n",
       "    .dataframe tbody tr th:only-of-type {\n",
       "        vertical-align: middle;\n",
       "    }\n",
       "\n",
       "    .dataframe tbody tr th {\n",
       "        vertical-align: top;\n",
       "    }\n",
       "\n",
       "    .dataframe thead th {\n",
       "        text-align: right;\n",
       "    }\n",
       "</style>\n",
       "<table border=\"1\" class=\"dataframe\">\n",
       "  <thead>\n",
       "    <tr style=\"text-align: right;\">\n",
       "      <th></th>\n",
       "      <th>Col1</th>\n",
       "      <th>Col2</th>\n",
       "      <th>Col3</th>\n",
       "      <th>ColX</th>\n",
       "      <th>ColY</th>\n",
       "      <th>ColZ</th>\n",
       "    </tr>\n",
       "  </thead>\n",
       "  <tbody>\n",
       "    <tr>\n",
       "      <th>4</th>\n",
       "      <td>96.676599</td>\n",
       "      <td>2</td>\n",
       "      <td>6.0</td>\n",
       "      <td>12.586074</td>\n",
       "      <td>149.704278</td>\n",
       "      <td>NaN</td>\n",
       "    </tr>\n",
       "    <tr>\n",
       "      <th>12</th>\n",
       "      <td>90.857124</td>\n",
       "      <td>3</td>\n",
       "      <td>6.0</td>\n",
       "      <td>673.799210</td>\n",
       "      <td>114.324660</td>\n",
       "      <td>CYCLE</td>\n",
       "    </tr>\n",
       "    <tr>\n",
       "      <th>13</th>\n",
       "      <td>45.607160</td>\n",
       "      <td>1</td>\n",
       "      <td>6.0</td>\n",
       "      <td>17.900406</td>\n",
       "      <td>116.687005</td>\n",
       "      <td>CAR</td>\n",
       "    </tr>\n",
       "    <tr>\n",
       "      <th>14</th>\n",
       "      <td>23.889049</td>\n",
       "      <td>3</td>\n",
       "      <td>6.0</td>\n",
       "      <td>607.793399</td>\n",
       "      <td>3.078456</td>\n",
       "      <td>CYCLE</td>\n",
       "    </tr>\n",
       "    <tr>\n",
       "      <th>15</th>\n",
       "      <td>40.423044</td>\n",
       "      <td>7</td>\n",
       "      <td>6.0</td>\n",
       "      <td>607.793399</td>\n",
       "      <td>105.027885</td>\n",
       "      <td>CYCLE</td>\n",
       "    </tr>\n",
       "    <tr>\n",
       "      <th>23</th>\n",
       "      <td>50.814068</td>\n",
       "      <td>8</td>\n",
       "      <td>83.0</td>\n",
       "      <td>607.793399</td>\n",
       "      <td>93.040035</td>\n",
       "      <td>CYCLE</td>\n",
       "    </tr>\n",
       "    <tr>\n",
       "      <th>24</th>\n",
       "      <td>28.990477</td>\n",
       "      <td>2</td>\n",
       "      <td>43.0</td>\n",
       "      <td>607.793399</td>\n",
       "      <td>244.219894</td>\n",
       "      <td>BIKE</td>\n",
       "    </tr>\n",
       "  </tbody>\n",
       "</table>\n",
       "</div>"
      ],
      "text/plain": [
       "         Col1  Col2  Col3         ColX        ColY   ColZ\n",
       "4   96.676599     2    6.0   12.586074  149.704278    NaN\n",
       "12  90.857124     3    6.0  673.799210  114.324660  CYCLE\n",
       "13  45.607160     1    6.0   17.900406  116.687005    CAR\n",
       "14  23.889049     3    6.0  607.793399    3.078456  CYCLE\n",
       "15  40.423044     7    6.0  607.793399  105.027885  CYCLE\n",
       "23  50.814068     8   83.0  607.793399   93.040035  CYCLE\n",
       "24  28.990477     2   43.0  607.793399  244.219894   BIKE"
      ]
     },
     "execution_count": 92,
     "metadata": {},
     "output_type": "execute_result"
    }
   ],
   "source": [
    "DataPointsWithNaN.fillna(method='ffill')  # Methods = {‘backfill’, ‘bfill’, ‘pad’, ‘ffill’, None}, default None"
   ]
  },
  {
   "cell_type": "code",
   "execution_count": null,
   "metadata": {},
   "outputs": [],
   "source": []
  }
 ],
 "metadata": {
  "kernelspec": {
   "display_name": "Python 3 (ipykernel)",
   "language": "python",
   "name": "python3"
  },
  "language_info": {
   "codemirror_mode": {
    "name": "ipython",
    "version": 3
   },
   "file_extension": ".py",
   "mimetype": "text/x-python",
   "name": "python",
   "nbconvert_exporter": "python",
   "pygments_lexer": "ipython3",
   "version": "3.9.12"
  }
 },
 "nbformat": 4,
 "nbformat_minor": 4
}
