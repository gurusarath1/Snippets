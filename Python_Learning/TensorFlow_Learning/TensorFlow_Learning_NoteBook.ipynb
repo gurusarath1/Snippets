{
 "cells": [
  {
   "cell_type": "markdown",
   "metadata": {},
   "source": [
    "# TensorFlow Learning (Python)"
   ]
  },
  {
   "cell_type": "code",
   "execution_count": 2,
   "metadata": {},
   "outputs": [
    {
     "name": "stdout",
     "output_type": "stream",
     "text": [
      "1.13.1\n",
      "MSVC 190024215\n",
      "27\n"
     ]
    }
   ],
   "source": [
    "import numpy as np\n",
    "import tensorflow as tf\n",
    "\n",
    "print(tf.version.VERSION)\n",
    "print(tf.version.COMPILER_VERSION)\n",
    "print(tf.version.GRAPH_DEF_VERSION)"
   ]
  },
  {
   "cell_type": "markdown",
   "metadata": {},
   "source": [
    "# Tensor\n",
    "A tensor is a generalization of vectors and matrices to potentially higher dimensions. Internally, TensorFlow represents tensors as n-dimensional arrays of base datatypes."
   ]
  },
  {
   "cell_type": "markdown",
   "metadata": {},
   "source": [
    "Each element in the Tensor has the same data type, and the data type is always known.\n",
    "\n",
    "The rank of a tf.Tensor object is its number of dimensions.\n",
    "\n",
    "Scalar - Rank 0 tensor\n",
    "\n",
    "Vector - Rank 1 tensor\n",
    "\n",
    "Matrix - Rank 2 tensot"
   ]
  },
  {
   "cell_type": "markdown",
   "metadata": {},
   "source": [
    "#### Common Tensors\n",
    "tf.Variable \n",
    "\n",
    "tf.constant\n",
    "\n",
    "tf.placeholder\n",
    "\n",
    "tf.SparseTensor "
   ]
  },
  {
   "cell_type": "markdown",
   "metadata": {},
   "source": [
    "#### dtype\n",
    "QUANTIZED_DTYPES,  bfloat16,  bool,  complex128,  complex64,  double,  float16,  float32,  float64,  half,  int16,  int32,  int64,  int8,  qint16,  qint32,  qint8,  quint16,  quint8,  resource,  string,  uint16,  uint32,  uint64,  uint8,  variant"
   ]
  },
  {
   "cell_type": "markdown",
   "metadata": {},
   "source": [
    "# Basics of TensorFlow"
   ]
  },
  {
   "cell_type": "markdown",
   "metadata": {},
   "source": [
    "### zeros, ones and fill"
   ]
  },
  {
   "cell_type": "code",
   "execution_count": 7,
   "metadata": {},
   "outputs": [
    {
     "name": "stdout",
     "output_type": "stream",
     "text": [
      "[0. 0. 0.] \n",
      "\n",
      "[1. 1. 1. 1. 1. 1.] \n",
      "\n",
      "[[9 9]\n",
      " [9 9]] \n",
      "\n",
      "[[0. 0. 0. 0. 0.]\n",
      " [0. 0. 0. 0. 0.]\n",
      " [0. 0. 0. 0. 0.]\n",
      " [0. 0. 0. 0. 0.]\n",
      " [0. 0. 0. 0. 0.]] \n",
      "\n",
      "[[1. 1. 1. 1.]\n",
      " [1. 1. 1. 1.]] \n",
      "\n",
      "[[[8.7 8.7 8.7]\n",
      "  [8.7 8.7 8.7]]\n",
      "\n",
      " [[8.7 8.7 8.7]\n",
      "  [8.7 8.7 8.7]]\n",
      "\n",
      " [[8.7 8.7 8.7]\n",
      "  [8.7 8.7 8.7]]\n",
      "\n",
      " [[8.7 8.7 8.7]\n",
      "  [8.7 8.7 8.7]]\n",
      "\n",
      " [[8.7 8.7 8.7]\n",
      "  [8.7 8.7 8.7]]] \n",
      "\n"
     ]
    }
   ],
   "source": [
    "zeros =  tf.zeros(3)\n",
    "ones = tf.ones(6)\n",
    "fill = tf.fill((2,2), value=9)\n",
    "\n",
    "with tf.Session() as sess:\n",
    "    print(sess.run(zeros),'\\n')\n",
    "    print(sess.run(ones),'\\n')\n",
    "    print(sess.run(fill),'\\n')\n",
    "    \n",
    "    zeros =  tf.zeros((5,5))\n",
    "    ones = tf.ones((2,4))\n",
    "    fill = tf.fill((5,2,3), value=8.7)\n",
    "    \n",
    "    print(sess.run(zeros),'\\n')\n",
    "    print(sess.run(ones),'\\n')\n",
    "    print(sess.run(fill),'\\n')"
   ]
  },
  {
   "cell_type": "markdown",
   "metadata": {},
   "source": [
    "### eye, range, diag"
   ]
  },
  {
   "cell_type": "code",
   "execution_count": 3,
   "metadata": {},
   "outputs": [
    {
     "data": {
      "text/plain": [
       "<tensorflow.python.client.session.InteractiveSession at 0x22dbe476f98>"
      ]
     },
     "execution_count": 3,
     "metadata": {},
     "output_type": "execute_result"
    }
   ],
   "source": [
    "tf.InteractiveSession()   #Using the interactive session"
   ]
  },
  {
   "cell_type": "code",
   "execution_count": 6,
   "metadata": {},
   "outputs": [
    {
     "data": {
      "text/plain": [
       "array([[1., 0., 0., 0.],\n",
       "       [0., 1., 0., 0.],\n",
       "       [0., 0., 1., 0.],\n",
       "       [0., 0., 0., 1.]], dtype=float32)"
      ]
     },
     "execution_count": 6,
     "metadata": {},
     "output_type": "execute_result"
    }
   ],
   "source": [
    "eye = tf.eye(4)\n",
    "eye.eval()"
   ]
  },
  {
   "cell_type": "code",
   "execution_count": 22,
   "metadata": {},
   "outputs": [
    {
     "data": {
      "text/plain": [
       "array([5, 6, 7])"
      ]
     },
     "execution_count": 22,
     "metadata": {},
     "output_type": "execute_result"
    }
   ],
   "source": [
    "r = tf.range(5,8,1)    #tf.range(start, limit, step)    #limit excluded\n",
    "r.eval()"
   ]
  },
  {
   "cell_type": "code",
   "execution_count": 21,
   "metadata": {},
   "outputs": [
    {
     "data": {
      "text/plain": [
       "array([[1, 0, 0, 0, 0, 0, 0, 0],\n",
       "       [0, 1, 0, 0, 0, 0, 0, 0],\n",
       "       [0, 0, 2, 0, 0, 0, 0, 0],\n",
       "       [0, 0, 0, 2, 0, 0, 0, 0],\n",
       "       [0, 0, 0, 0, 3, 0, 0, 0],\n",
       "       [0, 0, 0, 0, 0, 3, 0, 0],\n",
       "       [0, 0, 0, 0, 0, 0, 4, 0],\n",
       "       [0, 0, 0, 0, 0, 0, 0, 4]])"
      ]
     },
     "execution_count": 21,
     "metadata": {},
     "output_type": "execute_result"
    }
   ],
   "source": [
    "diag_elems = [1,1,2,2,3,3,4,4]\n",
    "d = tf.diag(diag_elems)\n",
    "d.eval()"
   ]
  },
  {
   "cell_type": "code",
   "execution_count": 23,
   "metadata": {},
   "outputs": [
    {
     "data": {
      "text/plain": [
       "array([[5, 0, 0],\n",
       "       [0, 6, 0],\n",
       "       [0, 0, 7]])"
      ]
     },
     "execution_count": 23,
     "metadata": {},
     "output_type": "execute_result"
    }
   ],
   "source": [
    "d = tf.diag(r)\n",
    "d.eval()"
   ]
  },
  {
   "cell_type": "code",
   "execution_count": 7,
   "metadata": {},
   "outputs": [
    {
     "name": "stdout",
     "output_type": "stream",
     "text": [
      "WARNING:tensorflow:From c:\\users\\gsgur\\appdata\\local\\programs\\python\\python37\\lib\\site-packages\\tensorflow\\python\\framework\\op_def_library.py:263: colocate_with (from tensorflow.python.framework.ops) is deprecated and will be removed in a future version.\n",
      "Instructions for updating:\n",
      "Colocations handled automatically by placer.\n",
      "Tensor(\"Rank:0\", shape=(), dtype=int32)\n",
      "Tensor(\"Rank_1:0\", shape=(), dtype=int32)\n",
      "Tensor(\"strided_slice:0\", shape=(), dtype=int32)\n",
      "2999\n",
      "Rank -  0\n",
      "Rank -  1\n",
      "Rank -  2\n"
     ]
    }
   ],
   "source": [
    "rank_zero = tf.Variable(3, name='rank0_tensor')\n",
    "rank_one = tf.Variable([1,2999,3], name='rank1_tensor')\n",
    "rank_two = tf.Variable([[2,34,4],[5,67,7],[8,910,10]])\n",
    "print(tf.rank(rank_zero))\n",
    "print(tf.rank(rank_one))\n",
    "\n",
    "element2 = rank_one[1]\n",
    "\n",
    "print(element2)\n",
    "\n",
    "with tf.Session() as sess:\n",
    "    initVars = tf.global_variables_initializer()\n",
    "    sess.run(initVars)\n",
    "    print(sess.run(element2))\n",
    "    print('Rank - ', sess.run(tf.rank(rank_zero)))\n",
    "    print('Rank - ', sess.run(tf.rank(rank_one)))\n",
    "    print('Rank - ', sess.run(tf.rank(rank_two)))"
   ]
  },
  {
   "cell_type": "markdown",
   "metadata": {},
   "source": [
    "# tf.random"
   ]
  },
  {
   "cell_type": "code",
   "execution_count": 16,
   "metadata": {},
   "outputs": [
    {
     "name": "stdout",
     "output_type": "stream",
     "text": [
      "[[-3.6625433  5.8312397  0.553386  -2.1982875  2.0972264  2.160311\n",
      "  -7.352648   3.7380123  2.8522165  0.7527485]]\n",
      "[[12 14]\n",
      " [12 13]]\n"
     ]
    }
   ],
   "source": [
    "normal_dist = tf.random.normal(shape=(1,10), mean=1, stddev=5, name='normal')\n",
    "uniform_dist = tf.random.uniform(shape=(2,2), minval=9, maxval=15, dtype=tf.int32, seed=1, name='Uniform')\n",
    "\n",
    "with tf.Session() as sess:\n",
    "    print(sess.run(normal_dist))\n",
    "    print(sess.run(uniform_dist))"
   ]
  },
  {
   "cell_type": "markdown",
   "metadata": {},
   "source": [
    "# Basic Structure of Tensor Flow Program\n",
    "\n",
    "You might think of TensorFlow Core programs as consisting of two discrete sections:\n",
    "\n",
    "1. Building the computational graph (a tf.Graph).\n",
    "2. Running the computational graph (using a tf.Session).\n",
    "\n",
    "A computational graph is a series of TensorFlow operations arranged into a graph. The graph is composed of two types of objects.\n",
    "\n",
    "1. tf.Operation (or \"ops\"): The nodes of the graph. Operations describe calculations that consume and produce tensors.\n",
    "2. tf.Tensor: The edges in the graph. These represent the values that will flow through the graph. Most TensorFlow functions return tf.Tensors."
   ]
  },
  {
   "cell_type": "markdown",
   "metadata": {},
   "source": [
    "## Basic Structure (Code)"
   ]
  },
  {
   "cell_type": "markdown",
   "metadata": {},
   "source": [
    "#### Construction phase (Create Tensors and Graphs)"
   ]
  },
  {
   "cell_type": "code",
   "execution_count": 8,
   "metadata": {},
   "outputs": [],
   "source": [
    "a = tf.Variable(3, dtype=tf.float32, name='a')\n",
    "b = tf.Variable(5, dtype=tf.float32, name='b')\n",
    "\n",
    "# Y = abs(sin( (a^2 + b^2)^0.5  )   )\n",
    "Y = tf.abs(tf.sin(tf.pow(tf.add(tf.multiply(a,a), tf.multiply(b,b)), 0.5))) #Create the computation graph\n",
    "## Y = tf.abs(tf.sin(  (a**2 + b**2)**0.5  )) <----- You can also write it directly"
   ]
  },
  {
   "cell_type": "code",
   "execution_count": 9,
   "metadata": {},
   "outputs": [],
   "source": [
    "initVars = tf.global_variables_initializer()"
   ]
  },
  {
   "cell_type": "markdown",
   "metadata": {},
   "source": [
    "#### Execution Phase"
   ]
  },
  {
   "cell_type": "code",
   "execution_count": 10,
   "metadata": {},
   "outputs": [
    {
     "name": "stdout",
     "output_type": "stream",
     "text": [
      "0.4369757\n"
     ]
    }
   ],
   "source": [
    "sess = tf.Session() #Create a TF session\n",
    "sess.run(initVars) #initlize variables\n",
    "print(sess.run(Y)) #Execute the computation graph\n",
    "sess.close() #Clsoe the session"
   ]
  },
  {
   "cell_type": "markdown",
   "metadata": {},
   "source": [
    "# Math Operations"
   ]
  },
  {
   "cell_type": "code",
   "execution_count": 11,
   "metadata": {},
   "outputs": [
    {
     "name": "stdout",
     "output_type": "stream",
     "text": [
      "1.7320508075688772\n",
      "0.5773502691896258\n",
      "81.0\n",
      "1.0986122886681098\n",
      "20.085536923187668\n",
      "0.9999779095030014\n",
      "[ 3.  4.  6.  0. -1. -2.  0.  8.]\n",
      "[ 3.  4.  6.  0. -1. -2.  0.  8.]\n",
      "[ 3.  4.  5.  0. -2. -2.  0.  7.]\n",
      "[ 4.  5.  6.  0. -1. -1.  1.  8.]\n"
     ]
    }
   ],
   "source": [
    "num = tf.constant(3, dtype=tf.float64)\n",
    "aryX = tf.constant([3.1, 4.5, 5.7, 0, -1.2, -1.7, 0.1, 7.8])\n",
    "\n",
    "sqrt_num = tf.sqrt(num, name=\"Square_root\")\n",
    "reciprocal_sqrt_num = tf.rsqrt(num, name=\"Reciprocal_square_root\")\n",
    "pow4_num = tf.pow(num, 4, name=\"Power\")\n",
    "log_num = tf.log(num, name=\"Log\")\n",
    "exp_num = tf.exp(num, name=\"Exp\")\n",
    "erf_num = tf.erf(num, name=\"error_function\")\n",
    "\n",
    "\n",
    "round_ary = tf.round(aryX)\n",
    "rint_ary = tf.rint(aryX)\n",
    "floor_ary = tf.floor(aryX)\n",
    "ceil_ary = tf.ceil(aryX)\n",
    "\n",
    "\n",
    "init = tf.global_variables_initializer()\n",
    "with tf.Session() as sess:\n",
    "    sess.run(init)\n",
    "    print(sess.run(sqrt_num))\n",
    "    print(sess.run(reciprocal_sqrt_num))\n",
    "    print(sess.run(pow4_num))\n",
    "    print(sess.run(log_num))\n",
    "    print(sess.run(exp_num))\n",
    "    print(sess.run(erf_num))\n",
    "    \n",
    "    print(sess.run(round_ary))\n",
    "    print(sess.run(rint_ary))\n",
    "    print(sess.run(floor_ary))\n",
    "    print(sess.run(ceil_ary))\n",
    "    \n"
   ]
  },
  {
   "cell_type": "markdown",
   "metadata": {},
   "source": [
    "## Matrix Operations"
   ]
  },
  {
   "cell_type": "code",
   "execution_count": 12,
   "metadata": {},
   "outputs": [
    {
     "name": "stdout",
     "output_type": "stream",
     "text": [
      "[[ 1  4  9]\n",
      " [16 25 36]\n",
      " [49 64 81]]\n",
      "[[ 30  36  42]\n",
      " [ 66  81  96]\n",
      " [102 126 150]]\n",
      "[[1 4 7]\n",
      " [2 5 8]\n",
      " [3 6 9]]\n"
     ]
    }
   ],
   "source": [
    "a = np.array([[1,2,3],[4,5,6],[7,8,9]])\n",
    "\n",
    "a_a = tf.multiply(a,a)  # Elementwise multiplication\n",
    "a_MatM_a = tf.matmul(a,a)\n",
    "a_transpose = tf.transpose(a)\n",
    "\n",
    "\n",
    "with tf.Session() as sess:\n",
    "    print(sess.run(a_a))\n",
    "    print(sess.run(a_MatM_a))\n",
    "    print(sess.run(a_transpose))\n"
   ]
  },
  {
   "cell_type": "markdown",
   "metadata": {},
   "source": [
    "## Gradients (autodiff)"
   ]
  },
  {
   "cell_type": "code",
   "execution_count": 13,
   "metadata": {},
   "outputs": [
    {
     "name": "stdout",
     "output_type": "stream",
     "text": [
      "[6.0, 75.0]\n"
     ]
    }
   ],
   "source": [
    "a = tf.Variable(3, dtype=tf.float32, name='a')\n",
    "b = tf.Variable(5, dtype=tf.float32, name='b')\n",
    "\n",
    "Y = a**2 + b**3\n",
    "g = tf.gradients(Y,[a,b])   #Calculates dY/da and dY/db (Partial Diff)\n",
    "\n",
    "initVars = tf.global_variables_initializer()\n",
    "\n",
    "sess = tf.Session()\n",
    "sess.run(initVars)\n",
    "sess.run(Y)\n",
    "print(sess.run(g))\n",
    "sess.close()"
   ]
  },
  {
   "cell_type": "markdown",
   "metadata": {},
   "source": [
    "## Gradient Descent Optimizer"
   ]
  },
  {
   "cell_type": "code",
   "execution_count": 14,
   "metadata": {},
   "outputs": [
    {
     "name": "stdout",
     "output_type": "stream",
     "text": [
      "x =  3.0\n"
     ]
    }
   ],
   "source": [
    "x = tf.Variable(10, dtype=tf.float32, name='x')\n",
    "three = tf.constant(3, dtype=tf.float32, name='three')\n",
    "Y = (x - three)**2\n",
    "\n",
    "#Create the GD optimizer object\n",
    "GD_Optimizer = tf.train.GradientDescentOptimizer(learning_rate = 0.5)\n",
    "training_op = GD_Optimizer.minimize(Y)\n",
    "\n",
    "initVars = tf.global_variables_initializer()\n",
    "sess = tf.Session()\n",
    "sess.run(initVars)\n",
    "\n",
    "for i in range(100): #Run 100 iterations of Gradient Descent\n",
    "    sess.run(training_op) #One Step of gradient descent\n",
    "\n",
    "print('x = ',sess.run(x))\n",
    "sess.close()"
   ]
  },
  {
   "cell_type": "code",
   "execution_count": 15,
   "metadata": {},
   "outputs": [
    {
     "name": "stdout",
     "output_type": "stream",
     "text": [
      "a =  3.0\n",
      "b =  50.0\n"
     ]
    }
   ],
   "source": [
    "a = tf.Variable(10, dtype=tf.float32, name='x')\n",
    "b = tf.Variable(180, dtype=tf.float32, name='y')\n",
    "three = tf.constant(3, dtype=tf.float32, name='three')\n",
    "Y = (a - three)**2 + (b - 50)**2\n",
    "\n",
    "#Create the GD optimizer object\n",
    "GD_Optimizer = tf.train.GradientDescentOptimizer(learning_rate = 0.5)\n",
    "training_op = GD_Optimizer.minimize(Y)\n",
    "\n",
    "initVars = tf.global_variables_initializer()\n",
    "sess = tf.Session()\n",
    "sess.run(initVars)\n",
    "\n",
    "for i in range(100): #Run 100 iterations of Gradient Descent\n",
    "    sess.run(training_op) #One Step of gradient descent\n",
    "\n",
    "print('a = ',sess.run(a))\n",
    "print('b = ',sess.run(b))\n",
    "sess.close()"
   ]
  },
  {
   "cell_type": "code",
   "execution_count": null,
   "metadata": {},
   "outputs": [],
   "source": []
  }
 ],
 "metadata": {
  "kernelspec": {
   "display_name": "Python 3",
   "language": "python",
   "name": "python3"
  },
  "language_info": {
   "codemirror_mode": {
    "name": "ipython",
    "version": 3
   },
   "file_extension": ".py",
   "mimetype": "text/x-python",
   "name": "python",
   "nbconvert_exporter": "python",
   "pygments_lexer": "ipython3",
   "version": "3.7.0b5"
  }
 },
 "nbformat": 4,
 "nbformat_minor": 2
}
