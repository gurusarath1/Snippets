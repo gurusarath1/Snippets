{
 "cells": [
  {
   "cell_type": "markdown",
   "metadata": {},
   "source": [
    "# TensorFlow Learning (Python)"
   ]
  },
  {
   "cell_type": "code",
   "execution_count": 1,
   "metadata": {},
   "outputs": [
    {
     "name": "stdout",
     "output_type": "stream",
     "text": [
      "1.13.1\n",
      "MSVC 190024215\n",
      "27\n"
     ]
    }
   ],
   "source": [
    "import numpy as np\n",
    "import tensorflow as tf\n",
    "\n",
    "print(tf.version.VERSION)\n",
    "print(tf.version.COMPILER_VERSION)\n",
    "print(tf.version.GRAPH_DEF_VERSION)"
   ]
  },
  {
   "cell_type": "markdown",
   "metadata": {},
   "source": [
    "# Tensor\n",
    "A tensor is a generalization of vectors and matrices to potentially higher dimensions. Internally, TensorFlow represents tensors as n-dimensional arrays of base datatypes."
   ]
  },
  {
   "cell_type": "markdown",
   "metadata": {},
   "source": [
    "Each element in the Tensor has the same data type, and the data type is always known.\n",
    "\n",
    "The rank of a tf.Tensor object is its number of dimensions."
   ]
  },
  {
   "cell_type": "markdown",
   "metadata": {},
   "source": [
    "#### Common Tensors\n",
    "tf.Variable \n",
    "\n",
    "tf.constant\n",
    "\n",
    "tf.placeholder\n",
    "\n",
    "tf.SparseTensor "
   ]
  },
  {
   "cell_type": "markdown",
   "metadata": {},
   "source": [
    "#### dtype\n",
    "QUANTIZED_DTYPES,  bfloat16,  bool,  complex128,  complex64,  double,  float16,  float32,  float64,  half,  int16,  int32,  int64,  int8,  qint16,  qint32,  qint8,  quint16,  quint8,  resource,  string,  uint16,  uint32,  uint64,  uint8,  variant"
   ]
  },
  {
   "cell_type": "code",
   "execution_count": 2,
   "metadata": {},
   "outputs": [
    {
     "name": "stdout",
     "output_type": "stream",
     "text": [
      "WARNING:tensorflow:From c:\\users\\gsgur\\appdata\\local\\programs\\python\\python37\\lib\\site-packages\\tensorflow\\python\\framework\\op_def_library.py:263: colocate_with (from tensorflow.python.framework.ops) is deprecated and will be removed in a future version.\n",
      "Instructions for updating:\n",
      "Colocations handled automatically by placer.\n",
      "Tensor(\"Rank:0\", shape=(), dtype=int32)\n",
      "Tensor(\"Rank_1:0\", shape=(), dtype=int32)\n",
      "Tensor(\"strided_slice:0\", shape=(), dtype=int32)\n",
      "2999\n",
      "Rank -  0\n",
      "Rank -  1\n",
      "Rank -  2\n"
     ]
    }
   ],
   "source": [
    "rank_zero = tf.Variable(3, name='rank0_tensor')\n",
    "rank_one = tf.Variable([1,2999,3], name='rank1_tensor')\n",
    "rank_two = tf.Variable([[2,34,4],[5,67,7],[8,910,10]])\n",
    "print(tf.rank(rank_zero))\n",
    "print(tf.rank(rank_one))\n",
    "\n",
    "element2 = rank_one[1]\n",
    "\n",
    "print(element2)\n",
    "\n",
    "with tf.Session() as sess:\n",
    "    initVars = tf.global_variables_initializer()\n",
    "    sess.run(initVars)\n",
    "    print(sess.run(element2))\n",
    "    print('Rank - ', sess.run(tf.rank(rank_zero)))\n",
    "    print('Rank - ', sess.run(tf.rank(rank_one)))\n",
    "    print('Rank - ', sess.run(tf.rank(rank_two)))"
   ]
  },
  {
   "cell_type": "markdown",
   "metadata": {},
   "source": [
    "# Basic Structure of Tensor Flow\n",
    "\n",
    "You might think of TensorFlow Core programs as consisting of two discrete sections:\n",
    "\n",
    "1. Building the computational graph (a tf.Graph).\n",
    "2. Running the computational graph (using a tf.Session).\n",
    "\n",
    "A computational graph is a series of TensorFlow operations arranged into a graph. The graph is composed of two types of objects.\n",
    "\n",
    "1. tf.Operation (or \"ops\"): The nodes of the graph. Operations describe calculations that consume and produce tensors.\n",
    "2. tf.Tensor: The edges in the graph. These represent the values that will flow through the graph. Most TensorFlow functions return tf.Tensors."
   ]
  },
  {
   "cell_type": "markdown",
   "metadata": {},
   "source": [
    "## Basic Structure (Code)"
   ]
  },
  {
   "cell_type": "markdown",
   "metadata": {},
   "source": [
    "#### Construction phase (Create Tensors and Graphs)"
   ]
  },
  {
   "cell_type": "code",
   "execution_count": 3,
   "metadata": {},
   "outputs": [],
   "source": [
    "a = tf.Variable(3, dtype=tf.float32, name='a')\n",
    "b = tf.Variable(5, dtype=tf.float32, name='b')\n",
    "\n",
    "# Y = abs(sin( (a^2 + b^2)^0.5  )   )\n",
    "Y = tf.abs(tf.sin(tf.pow(tf.add(tf.multiply(a,a), tf.multiply(b,b)), 0.5))) #Create the computation graph\n",
    "## Y = tf.abs(tf.sin(  (a**2 + b**2)**0.5  )) <----- You can also write it directly"
   ]
  },
  {
   "cell_type": "code",
   "execution_count": 4,
   "metadata": {},
   "outputs": [],
   "source": [
    "initVars = tf.global_variables_initializer()"
   ]
  },
  {
   "cell_type": "markdown",
   "metadata": {},
   "source": [
    "#### Execution Phase"
   ]
  },
  {
   "cell_type": "code",
   "execution_count": 5,
   "metadata": {},
   "outputs": [
    {
     "name": "stdout",
     "output_type": "stream",
     "text": [
      "0.4369757\n"
     ]
    }
   ],
   "source": [
    "sess = tf.Session() #Create a TF session\n",
    "sess.run(initVars) #initlize variables\n",
    "print(sess.run(Y)) #Execute the computation graph\n",
    "sess.close() #Clsoe the session"
   ]
  },
  {
   "cell_type": "markdown",
   "metadata": {},
   "source": [
    "## Gradient Descent Optimizer"
   ]
  },
  {
   "cell_type": "code",
   "execution_count": 6,
   "metadata": {},
   "outputs": [
    {
     "name": "stdout",
     "output_type": "stream",
     "text": [
      "x =  3.0\n"
     ]
    }
   ],
   "source": [
    "x = tf.Variable(10, dtype=tf.float32, name='x')\n",
    "three = tf.constant(3, dtype=tf.float32, name='three')\n",
    "Y = (x - three)**2\n",
    "\n",
    "#Create the GD optimizer object\n",
    "GD_Optimizer = tf.train.GradientDescentOptimizer(learning_rate = 0.5)\n",
    "training_op = GD_Optimizer.minimize(Y)\n",
    "\n",
    "initVars = tf.global_variables_initializer()\n",
    "sess = tf.Session()\n",
    "sess.run(initVars)\n",
    "\n",
    "for i in range(100): #Run 100 iterations of Gradient Descent\n",
    "    sess.run(training_op) #One Step of gradient descent\n",
    "\n",
    "print('x = ',sess.run(x))\n",
    "sess.close()"
   ]
  },
  {
   "cell_type": "code",
   "execution_count": 7,
   "metadata": {},
   "outputs": [
    {
     "name": "stdout",
     "output_type": "stream",
     "text": [
      "a =  3.0\n",
      "b =  50.0\n"
     ]
    }
   ],
   "source": [
    "a = tf.Variable(10, dtype=tf.float32, name='x')\n",
    "b = tf.Variable(180, dtype=tf.float32, name='y')\n",
    "three = tf.constant(3, dtype=tf.float32, name='three')\n",
    "Y = (a - three)**2 + (b - 50)**2\n",
    "\n",
    "#Create the GD optimizer object\n",
    "GD_Optimizer = tf.train.GradientDescentOptimizer(learning_rate = 0.5)\n",
    "training_op = GD_Optimizer.minimize(Y)\n",
    "\n",
    "initVars = tf.global_variables_initializer()\n",
    "sess = tf.Session()\n",
    "sess.run(initVars)\n",
    "\n",
    "for i in range(100): #Run 100 iterations of Gradient Descent\n",
    "    sess.run(training_op) #One Step of gradient descent\n",
    "\n",
    "print('a = ',sess.run(a))\n",
    "print('b = ',sess.run(b))\n",
    "sess.close()"
   ]
  },
  {
   "cell_type": "markdown",
   "metadata": {},
   "source": [
    "# tf.random"
   ]
  },
  {
   "cell_type": "code",
   "execution_count": 8,
   "metadata": {},
   "outputs": [
    {
     "name": "stdout",
     "output_type": "stream",
     "text": [
      "[[ 1.6418753 -4.429711  -6.9788074  3.6827345 -2.686794  -6.782597\n",
      "   9.840202  -2.203504  -6.306733   8.909157 ]]\n",
      "[[12 14]\n",
      " [12 13]]\n"
     ]
    }
   ],
   "source": [
    "normal_dist = tf.random.normal(shape=(1,10), mean=1, stddev=5, name='normal')\n",
    "uniform_dist = tf.random.uniform(shape=(2,2), minval=9, maxval=15, dtype=tf.int32, seed=1, name='Uniform')\n",
    "\n",
    "with tf.Session() as sess:\n",
    "    print(sess.run(normal_dist))\n",
    "    print(sess.run(uniform_dist))"
   ]
  },
  {
   "cell_type": "markdown",
   "metadata": {},
   "source": [
    "# Saving and Restoring Models"
   ]
  },
  {
   "cell_type": "code",
   "execution_count": 9,
   "metadata": {},
   "outputs": [],
   "source": [
    "a = tf.Variable(1000, dtype=tf.float32, name='x')\n",
    "b = tf.Variable(180, dtype=tf.float32, name='y')\n",
    "Y = (a - 699)**2 + (b - 50)**2\n",
    "\n",
    "# Create a saver -----------\n",
    "saver = tf.train.Saver()"
   ]
  },
  {
   "cell_type": "code",
   "execution_count": 10,
   "metadata": {},
   "outputs": [
    {
     "name": "stdout",
     "output_type": "stream",
     "text": [
      "a =  899.9501\n",
      "b =  136.78902\n"
     ]
    }
   ],
   "source": [
    "#Create the GD optimizer object\n",
    "GD_Optimizer = tf.train.GradientDescentOptimizer(learning_rate = 0.01)\n",
    "training_op = GD_Optimizer.minimize(Y)\n",
    "\n",
    "initVars = tf.global_variables_initializer()\n",
    "\n",
    "with tf.Session() as sess:\n",
    "    sess.run(initVars)\n",
    "    for i in range(20): #Run 100 iterations of Gradient Descent\n",
    "        sess.run(training_op) #One Step of gradient descent\n",
    "        saver.save(sess, './MyModel.ckpt')\n",
    "\n",
    "    print('a = ',sess.run(a))\n",
    "    print('b = ',sess.run(b))\n"
   ]
  },
  {
   "cell_type": "code",
   "execution_count": 11,
   "metadata": {},
   "outputs": [
    {
     "name": "stdout",
     "output_type": "stream",
     "text": [
      "WARNING:tensorflow:From c:\\users\\gsgur\\appdata\\local\\programs\\python\\python37\\lib\\site-packages\\tensorflow\\python\\training\\saver.py:1266: checkpoint_exists (from tensorflow.python.training.checkpoint_management) is deprecated and will be removed in a future version.\n",
      "Instructions for updating:\n",
      "Use standard file APIs to check for files with this prefix.\n",
      "INFO:tensorflow:Restoring parameters from ./MyModel.ckpt\n",
      "899.9501\n"
     ]
    }
   ],
   "source": [
    "with tf.Session() as RestoredSess:\n",
    "    saver.restore(RestoredSess, './MyModel.ckpt')\n",
    "    print(RestoredSess.run(a))"
   ]
  },
  {
   "cell_type": "code",
   "execution_count": null,
   "metadata": {},
   "outputs": [],
   "source": []
  },
  {
   "cell_type": "code",
   "execution_count": null,
   "metadata": {},
   "outputs": [],
   "source": []
  }
 ],
 "metadata": {
  "kernelspec": {
   "display_name": "Python 3",
   "language": "python",
   "name": "python3"
  },
  "language_info": {
   "codemirror_mode": {
    "name": "ipython",
    "version": 3
   },
   "file_extension": ".py",
   "mimetype": "text/x-python",
   "name": "python",
   "nbconvert_exporter": "python",
   "pygments_lexer": "ipython3",
   "version": "3.7.0b5"
  }
 },
 "nbformat": 4,
 "nbformat_minor": 2
}
