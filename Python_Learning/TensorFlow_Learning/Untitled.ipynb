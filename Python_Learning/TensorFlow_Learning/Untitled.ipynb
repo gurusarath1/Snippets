{
 "cells": [
  {
   "cell_type": "markdown",
   "metadata": {},
   "source": [
    "# Advanced Indexing"
   ]
  },
  {
   "cell_type": "code",
   "execution_count": 48,
   "metadata": {},
   "outputs": [
    {
     "name": "stdout",
     "output_type": "stream",
     "text": [
      "[0, 1, 2, 3, 4, 5, 6, 7, 8]\n",
      "[0, 1, 2, 3, 4, 5, 6, 7, 8]\n",
      "[0, 1, 2, 3, 4, 5, 6, 7, 8]\n",
      "[0, 1, 2, 3, 4, 5, 6, 7, 8]\n",
      "[0, 1, 2, 3, 4, 5, 6, 7, 8]\n",
      "[0, 1, 2, 3, 4, 5, 6, 7, 8]\n",
      "------------------\n",
      "0\n",
      "[0]\n",
      "[0, 1, 2]\n",
      "[0, 1, 2]\n",
      "[0, 2]\n",
      "[0, 2, 4, 6]\n",
      "------------------\n",
      "8\n",
      "6\n",
      "[8]\n",
      "[8]\n",
      "[]\n",
      "------------------\n",
      "[8, 7, 6, 5, 4, 3, 2, 1, 0]\n",
      "[8, 7, 6, 5, 4, 3, 2, 1, 0]\n",
      "------------------\n",
      "[8, 6, 4, 2, 0]\n",
      "[8, 6, 4, 2, 0]\n"
     ]
    }
   ],
   "source": [
    "a = [0,1,2,3,4,5,6,7,8]\n",
    "# [start, end, step]\n",
    "\n",
    "print(a)\n",
    "print(a[:])\n",
    "print(a[::])\n",
    "print(a[0:])\n",
    "print(a[0::1])\n",
    "print(a[::1])\n",
    "\n",
    "print('------------------')\n",
    "\n",
    "print(a[0])\n",
    "print(a[0:1])\n",
    "print(a[0:3])\n",
    "print(a[0:3:1])\n",
    "print(a[0:3:2])\n",
    "print(a[0:8:2])\n",
    "\n",
    "print('------------------')\n",
    "\n",
    "print(a[-1])\n",
    "print(a[-3])\n",
    "print(a[-1:])\n",
    "print(a[-1::])\n",
    "print(a[-1:-3])   #empty   because   start: -1 then -1+1 = 0   It will never reach the limit\n",
    "\n",
    "print('------------------')\n",
    "# reversing list\n",
    "print(a[::-1])\n",
    "print(a[-1::-1])\n",
    "\n",
    "print('------------------')\n",
    "print(a[::-2])\n",
    "print(a[-1::-2])"
   ]
  },
  {
   "cell_type": "code",
   "execution_count": 22,
   "metadata": {},
   "outputs": [
    {
     "name": "stdout",
     "output_type": "stream",
     "text": [
      "[4, 5, 6]\n",
      "[4, 5, 6]\n",
      "6\n",
      "[4, 5]\n",
      "[[1, 2, 3], [7, 8, 9]]\n",
      "[[1, 2, 3], [7, 8, 9]]\n"
     ]
    }
   ],
   "source": [
    "a = [[1,2,3],[4,5,6],[7,8,9],[10,11,12]]\n",
    "print(a[1])\n",
    "print(a[1][0:3])\n",
    "\n",
    "print(a[1][2])\n",
    "print(a[1][0:2])\n",
    "\n",
    "print(a[0:4:2])\n",
    "print(a[0:4:2][0:2])\n",
    "\n"
   ]
  },
  {
   "cell_type": "code",
   "execution_count": 1,
   "metadata": {},
   "outputs": [],
   "source": [
    "import numpy as np"
   ]
  },
  {
   "cell_type": "code",
   "execution_count": null,
   "metadata": {},
   "outputs": [],
   "source": []
  }
 ],
 "metadata": {
  "kernelspec": {
   "display_name": "Python 3",
   "language": "python",
   "name": "python3"
  },
  "language_info": {
   "codemirror_mode": {
    "name": "ipython",
    "version": 3
   },
   "file_extension": ".py",
   "mimetype": "text/x-python",
   "name": "python",
   "nbconvert_exporter": "python",
   "pygments_lexer": "ipython3",
   "version": "3.7.0b5"
  }
 },
 "nbformat": 4,
 "nbformat_minor": 2
}
