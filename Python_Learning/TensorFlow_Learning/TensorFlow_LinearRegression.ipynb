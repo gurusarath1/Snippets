{
 "cells": [
  {
   "cell_type": "markdown",
   "metadata": {},
   "source": [
    "# Linear Regression using Tensor Flow and Numpy"
   ]
  },
  {
   "cell_type": "code",
   "execution_count": null,
   "metadata": {},
   "outputs": [],
   "source": [
    "import numpy as np\n",
    "import tensorflow as tf\n",
    "print(np.version.version)\n",
    "print(tf.version.VERSION)\n",
    "print(tf.version.COMPILER_VERSION)\n",
    "print(tf.version.GRAPH_DEF_VERSION)"
   ]
  },
  {
   "cell_type": "code",
   "execution_count": null,
   "metadata": {},
   "outputs": [],
   "source": [
    "# Load the dataset\n",
    "DataSet = np.loadtxt('LinearRegression_dataset.csv', delimiter = ',', unpack = False, dtype = float)\n",
    "print(DataSet.shape)\n",
    "m = DataSet.shape[0] #Number of data points\n",
    "n = DataSet.shape[1] - 1 #Number of features\n",
    "LearningRate = 0.00001\n",
    "iterationsOfGD = 100000\n",
    "\n",
    "#print(np.ones(m))\n",
    "X = DataSet[:,0:n] #Remove the last column\n",
    "x0 = np.ones(m).reshape(m,1)\n",
    "X = np.hstack((X, x0)) #Append 1 to last column of each row\n",
    "y = DataSet[:,-1].reshape(m,1) #Get the last column\n",
    "theta = np.random.randn(1,n+1) #initialize theta\n",
    "\n",
    "print('theta = ', theta)\n",
    "print('X = ', X)\n",
    "print('y = ', y)\n",
    "\n",
    "'''\n",
    "# Linear Regression using numpy\n",
    "for x in range(100000):\n",
    "    y_pred = np.dot(X,theta.T)\n",
    "    #print('\\nPredicted Y = \\n', y_pred)\n",
    "    mse = np.sum((y - y_pred)**2)/m\n",
    "    print( '\\nMSE = \\n', mse )\n",
    "\n",
    "    for i in range(n):\n",
    "        dTheta = (2/m) * ( np.sum(        (y_pred - y) * np.array(X[:,i]).reshape(m,1)         ) )\n",
    "        theta[0][i] = theta[0][i] - (LearningRate * dTheta)\n",
    "    \n",
    "print(theta)\n",
    "'''\n",
    "\n"
   ]
  },
  {
   "cell_type": "code",
   "execution_count": null,
   "metadata": {},
   "outputs": [],
   "source": [
    "n_ = n\n",
    "m_ = m\n",
    "m = tf.constant(DataSet.shape[0], dtype=tf.float64)\n",
    "n = tf.constant(DataSet.shape[1] - 1, dtype=tf.float64)\n",
    "X_tensor = tf.Variable(X)\n",
    "X_i_tensor = tf.placeholder(dtype=tf.float64)\n",
    "y_tensor = tf.Variable(y)\n",
    "theta_tensor = tf.placeholder(dtype=tf.float64)\n",
    "\n",
    "\n",
    "y_predicted = tf.matmul( X_tensor, tf.transpose(theta_tensor) )\n",
    "mse = tf.reduce_sum((y_predicted - y_tensor)**2) / m\n",
    "\n",
    "dTheta = (2/m) * ( tf.reduce_sum(        (y_predicted - y_tensor) * X_i_tensor  ) )\n",
    "    \n",
    "    "
   ]
  },
  {
   "cell_type": "code",
   "execution_count": null,
   "metadata": {},
   "outputs": [],
   "source": [
    "init = tf.global_variables_initializer()\n",
    "\n",
    "with tf.Session() as sess:\n",
    "    sess.run(init)\n",
    "    \n",
    "    for x in range(iterationsOfGD):\n",
    "            sess.run(y_predicted, feed_dict={theta_tensor:theta})\n",
    "            print(iterationsOfGD - x , '  Error = ', sess.run(mse, feed_dict={theta_tensor:theta}))\n",
    "\n",
    "            for i in range(n_):\n",
    "                theta[0][i] = theta[0][i] - (LearningRate * sess.run(dTheta, feed_dict={theta_tensor:theta, X_i_tensor:np.array(X[:,i]).reshape(m_,1)})) \n"
   ]
  },
  {
   "cell_type": "code",
   "execution_count": null,
   "metadata": {},
   "outputs": [],
   "source": [
    "print(theta)\n",
    "print(np.round(theta))  # Actual values (-3,2,12,-4,0.5,8)"
   ]
  },
  {
   "cell_type": "code",
   "execution_count": null,
   "metadata": {},
   "outputs": [],
   "source": []
  }
 ],
 "metadata": {
  "kernelspec": {
   "display_name": "Python 3",
   "language": "python",
   "name": "python3"
  },
  "language_info": {
   "codemirror_mode": {
    "name": "ipython",
    "version": 3
   },
   "file_extension": ".py",
   "mimetype": "text/x-python",
   "name": "python",
   "nbconvert_exporter": "python",
   "pygments_lexer": "ipython3",
   "version": "3.7.0b5"
  }
 },
 "nbformat": 4,
 "nbformat_minor": 2
}
