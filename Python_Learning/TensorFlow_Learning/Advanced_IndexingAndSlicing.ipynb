{
 "cells": [
  {
   "attachments": {},
   "cell_type": "markdown",
   "metadata": {},
   "source": [
    "# Advanced Indexing and Slicing\n",
    "![title](slicing.png)\n",
    "\n",
    "#### [start, limit, step]\n",
    "\n",
    "element list[Limit] is not included in the resulting list\n",
    "\n",
    "Default start = 0 or -(index of last element)\n",
    "\n",
    "Default limit = index of last element\n",
    "\n",
    "Default step = 1"
   ]
  },
  {
   "cell_type": "code",
   "execution_count": 3,
   "metadata": {},
   "outputs": [],
   "source": [
    "a = [0,1,2,3,4,5,6,7,8]"
   ]
  },
  {
   "cell_type": "markdown",
   "metadata": {},
   "source": [
    "## Examples\n",
    "\n",
    "a = [0,1,2,3,4,5,6,7,8]\n",
    "\n",
    "a[1:10:2] = [1, 3, 5, 7]\n",
    "\n",
    "a[10:1:2] = []    step is +ve and start > limit\n",
    "\n",
    "a[-2:-1:2] = [7]\n",
    "\n",
    "a[-2:1:2] = a[7:1:2]   (Convert to same sign)  = []     step is +ve and start > limit\n",
    "\n",
    "a[-3:1:-2] = a[6:1:-2] (Convert to same sign) = [6,4,2]"
   ]
  },
  {
   "cell_type": "code",
   "execution_count": 6,
   "metadata": {},
   "outputs": [
    {
     "name": "stdout",
     "output_type": "stream",
     "text": [
      "[0, 1, 2, 3, 4, 5, 6, 7, 8]\n",
      "[0, 1, 2, 3, 4, 5, 6, 7, 8]\n",
      "[0, 1, 2, 3, 4, 5, 6, 7, 8]\n",
      "[0, 1, 2, 3, 4, 5, 6, 7, 8]\n",
      "[0, 1, 2, 3, 4, 5, 6, 7, 8]\n",
      "[0, 1, 2, 3, 4, 5, 6, 7, 8]\n",
      "[0, 1, 2, 3, 4, 5, 6, 7]\n",
      "[0, 1, 2, 3, 4, 5, 6, 7, 8]\n",
      "------------------\n",
      "0\n",
      "[0]\n",
      "[0, 1, 2]\n",
      "[0, 1, 2]\n",
      "[0, 2]\n",
      "[0, 2, 4, 6]\n",
      "[]\n",
      "[]\n",
      "------------------\n",
      "8\n",
      "6\n",
      "[8]\n",
      "[8]\n",
      "[]\n",
      "[8, 7]\n",
      "------------------\n",
      "[8, 7, 6, 5, 4, 3, 2, 1, 0]\n",
      "[8, 7, 6, 5, 4, 3, 2, 1, 0]\n",
      "------------------\n",
      "[8, 6, 4, 2, 0]\n",
      "[8, 6, 4, 2, 0]\n",
      "------------------\n",
      "[0, 1, 2, 3, 4, 5, 6, 7, 8]\n",
      "[0]\n"
     ]
    }
   ],
   "source": [
    "\n",
    "# [start, limit, step]\n",
    "\n",
    "print(a)\n",
    "print(a[:])\n",
    "print(a[::])\n",
    "print(a[0:])\n",
    "print(a[0::1])\n",
    "print(a[::1])\n",
    "print(a[0:8])\n",
    "print(a[0:9])\n",
    "\n",
    "print('------------------')\n",
    "\n",
    "print(a[0])\n",
    "print(a[0:1])\n",
    "print(a[0:3])\n",
    "print(a[0:3:1])\n",
    "print(a[0:3:2])\n",
    "print(a[0:8:2])\n",
    "print(a[1:0])\n",
    "print(a[2:1])\n",
    "\n",
    "print('------------------')\n",
    "\n",
    "print(a[-1])\n",
    "print(a[-3])\n",
    "print(a[-1:])\n",
    "print(a[-1::])\n",
    "print(a[-1:-3])   #empty   because   -1 > -3\n",
    "print(a[-1:-3:-1]) \n",
    "\n",
    "print('------------------')\n",
    "# reversing list\n",
    "print(a[::-1])\n",
    "print(a[-1::-1])\n",
    "\n",
    "print('------------------')\n",
    "print(a[::-2])\n",
    "print(a[-1::-2])\n",
    "\n",
    "print('------------------')\n",
    "#print(a[10]) #error (index out of range)\n",
    "print(a[:10:]) #limit can exceed the max index\n",
    "#print(a[::0]) #error (step == 0)\n",
    "print(a[::100]) #step can be any value apart from 0"
   ]
  },
  {
   "cell_type": "code",
   "execution_count": 7,
   "metadata": {},
   "outputs": [
    {
     "name": "stdout",
     "output_type": "stream",
     "text": [
      "[4, 5, 6]\n",
      "[4, 5, 6]\n",
      "6\n",
      "[4, 5]\n",
      "[[1, 2, 3], [7, 8, 9]]\n",
      "[[1, 2, 3], [7, 8, 9]]\n"
     ]
    }
   ],
   "source": [
    "a = [[1,2,3],[4,5,6],[7,8,9],[10,11,12]]\n",
    "print(a[1])\n",
    "print(a[1][0:3])\n",
    "\n",
    "print(a[1][2])\n",
    "print(a[1][0:2])\n",
    "\n",
    "print(a[0:4:2])\n",
    "print(a[0:4:2][0:2])\n",
    "\n"
   ]
  },
  {
   "cell_type": "code",
   "execution_count": 8,
   "metadata": {},
   "outputs": [],
   "source": [
    "import numpy as np"
   ]
  },
  {
   "cell_type": "code",
   "execution_count": null,
   "metadata": {},
   "outputs": [],
   "source": []
  }
 ],
 "metadata": {
  "kernelspec": {
   "display_name": "Python 3",
   "language": "python",
   "name": "python3"
  },
  "language_info": {
   "codemirror_mode": {
    "name": "ipython",
    "version": 3
   },
   "file_extension": ".py",
   "mimetype": "text/x-python",
   "name": "python",
   "nbconvert_exporter": "python",
   "pygments_lexer": "ipython3",
   "version": "3.7.0b5"
  }
 },
 "nbformat": 4,
 "nbformat_minor": 2
}
