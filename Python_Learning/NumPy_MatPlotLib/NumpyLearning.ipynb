{
 "cells": [
  {
   "cell_type": "markdown",
   "metadata": {},
   "source": [
    "# Numpy learning"
   ]
  },
  {
   "cell_type": "code",
   "execution_count": 39,
   "metadata": {},
   "outputs": [],
   "source": [
    "import numpy as np"
   ]
  },
  {
   "cell_type": "markdown",
   "metadata": {},
   "source": [
    "## Rank of an array\n",
    "Number of dimensions of the array is called rank of the array"
   ]
  },
  {
   "cell_type": "code",
   "execution_count": 40,
   "metadata": {},
   "outputs": [
    {
     "name": "stdout",
     "output_type": "stream",
     "text": [
      "[ 0  1  2  3  4  5  6  7  8  9 10 11 12 13 14 15] Shape =  (16,) Type =  int32\n",
      "Class Name : ndarray\n"
     ]
    }
   ],
   "source": [
    "rank1Array = np.array([0,1,2,3,4,5,6,7,8,9,10,11,12,13,14,15]) #Rank 1 array\n",
    "print(rank1Array, 'Shape = ',rank1Array.shape, 'Type = ', rank1Array.dtype)\n",
    "print('Class Name : ' + rank1Array.__class__.__name__)"
   ]
  },
  {
   "cell_type": "code",
   "execution_count": 73,
   "metadata": {},
   "outputs": [
    {
     "name": "stdout",
     "output_type": "stream",
     "text": [
      "[[1 2 3 4 5]] Shape =  (1, 5)\n",
      "[[ 0  1  2  3  4]\n",
      " [ 5  6  7  8  9]\n",
      " [10 11 12 13 14]\n",
      " [15 16 17 18 19]] Shape =  (4, 5)\n"
     ]
    }
   ],
   "source": [
    "rank2Array_1 = np.array([[1,2,3,4,5]]) #Rank 2 array\n",
    "rank2Array_2 = np.array([[0,1,2,3,4],[5,6,7,8,9],[10,11,12,13,14],[15,16,17,18,19]]) #Rank 2\n",
    "print(rank2Array_1, 'Shape = ',rank2Array_1.shape)\n",
    "print(rank2Array_2, 'Shape = ',rank2Array_2.shape)"
   ]
  },
  {
   "cell_type": "markdown",
   "metadata": {},
   "source": [
    "## ndarray functions"
   ]
  },
  {
   "cell_type": "code",
   "execution_count": 74,
   "metadata": {},
   "outputs": [
    {
     "name": "stdout",
     "output_type": "stream",
     "text": [
      "Shape :  (4, 5)\n",
      "Dimensions :  2\n",
      "Number of elements :  20\n",
      "Type :  int32\n",
      "1D iterator :  <numpy.flatiter object at 0x000002EAD1BACCB0>\n",
      "1D array form :  [ 0  1  2  3  4  5  6  7  8  9 10 11 12 13 14 15 16 17 18 19]\n",
      "Transpose :\n",
      "  [[ 0  5 10 15]\n",
      " [ 1  6 11 16]\n",
      " [ 2  7 12 17]\n",
      " [ 3  8 13 18]\n",
      " [ 4  9 14 19]]\n"
     ]
    }
   ],
   "source": [
    "print('Shape : ', rank2Array_2.shape)\n",
    "print('Dimensions : ', rank2Array_2.ndim)\n",
    "print('Number of elements : ', rank2Array_2.size)\n",
    "print('Type : ', rank2Array_2.dtype)\n",
    "\n",
    "print('1D iterator : ', rank2Array_2.flat)\n",
    "print('1D array form : ', rank2Array_2.flatten())\n",
    "\n",
    "print('Transpose :\\n ', rank2Array_2.T)"
   ]
  },
  {
   "cell_type": "code",
   "execution_count": 75,
   "metadata": {},
   "outputs": [
    {
     "name": "stdout",
     "output_type": "stream",
     "text": [
      "Reshaped : \n",
      " [[ 0]\n",
      " [ 1]\n",
      " [ 2]\n",
      " [ 3]\n",
      " [ 4]\n",
      " [ 5]\n",
      " [ 6]\n",
      " [ 7]\n",
      " [ 8]\n",
      " [ 9]\n",
      " [10]\n",
      " [11]\n",
      " [12]\n",
      " [13]\n",
      " [14]\n",
      " [15]\n",
      " [16]\n",
      " [17]\n",
      " [18]\n",
      " [19]]\n",
      "Resize : None\n",
      "[[ 0  1  2  3  4  5  6]\n",
      " [ 7  8  9 10 11 12 13]\n",
      " [14 15 16 17 18 19  0]\n",
      " [ 0  0  0  0  0  0  0]\n",
      " [ 0  0  0  0  0  0  0]]\n",
      "Memory layout information :    C_CONTIGUOUS : True\n",
      "  F_CONTIGUOUS : False\n",
      "  OWNDATA : True\n",
      "  WRITEABLE : True\n",
      "  ALIGNED : True\n",
      "  WRITEBACKIFCOPY : False\n",
      "  UPDATEIFCOPY : False\n"
     ]
    }
   ],
   "source": [
    "print('Reshaped : \\n', rank2Array_2.reshape((20,1)))\n",
    "print('Resize :', rank2Array_2.resize((5,7))) #Resize directly changes the array\n",
    "print(rank2Array_2)\n",
    "\n",
    "print('Memory layout information : ', rank2Array_2.flags)"
   ]
  },
  {
   "cell_type": "markdown",
   "metadata": {},
   "source": [
    "## Rank 1 array indexing"
   ]
  },
  {
   "cell_type": "code",
   "execution_count": 5,
   "metadata": {},
   "outputs": [
    {
     "name": "stdout",
     "output_type": "stream",
     "text": [
      "0\n",
      "1\n",
      "15\n",
      "[1 2]\n",
      "[ 1  2  3  4  5  6  7  8  9 10 11 12 13 14]\n",
      "[ 0  2  4  6  8 10 12 14]\n",
      "[ 2  4  6  8 10]\n",
      "[15 14 13 12 11 10  9  8  7  6  5  4  3  2  1  0]\n",
      "[11 10  9  8  7  6  5]\n"
     ]
    }
   ],
   "source": [
    "print(rank1Array[0])\n",
    "print(rank1Array[1])\n",
    "print(rank1Array[-1])\n",
    "print(rank1Array[1:3]) #start : end # [start : end)\n",
    "print(rank1Array[1:-1])\n",
    "print(rank1Array[::2]) # start : end : step\n",
    "print(rank1Array[2:11:2])\n",
    "print(rank1Array[::-1]) # reverse an array\n",
    "print(rank1Array[11:4:-1])"
   ]
  },
  {
   "cell_type": "markdown",
   "metadata": {},
   "source": [
    "## Rank 2 array indexing"
   ]
  },
  {
   "cell_type": "code",
   "execution_count": 6,
   "metadata": {},
   "outputs": [
    {
     "name": "stdout",
     "output_type": "stream",
     "text": [
      "14\n",
      "[10 11 12 13 14]\n",
      "[[ 0  2  4]\n",
      " [10 12 14]]\n",
      "[[ 4  3  2  1  0]\n",
      " [ 9  8  7  6  5]\n",
      " [14 13 12 11 10]\n",
      " [19 18 17 16 15]]\n",
      "[[15 16 17 18 19]\n",
      " [10 11 12 13 14]\n",
      " [ 5  6  7  8  9]\n",
      " [ 0  1  2  3  4]]\n"
     ]
    }
   ],
   "source": [
    "print(rank2Array_2[2,4]) # [row,col]\n",
    "print(rank2Array_2[2,])\n",
    "print(rank2Array_2[:5:2,:5:2]) # [row start : end , col start : end]\n",
    "print(rank2Array_2[:,::-1]) # Reverse each row\n",
    "print(rank2Array_2[::-1,:]) # Reverse the order of rows "
   ]
  },
  {
   "cell_type": "markdown",
   "metadata": {},
   "source": [
    "### inf and NaN"
   ]
  },
  {
   "cell_type": "code",
   "execution_count": 62,
   "metadata": {},
   "outputs": [
    {
     "name": "stdout",
     "output_type": "stream",
     "text": [
      "inf\n",
      "nan\n"
     ]
    }
   ],
   "source": [
    "print(np.inf)\n",
    "print(np.nan)"
   ]
  },
  {
   "cell_type": "markdown",
   "metadata": {},
   "source": [
    "## Matrix operations"
   ]
  },
  {
   "cell_type": "code",
   "execution_count": 54,
   "metadata": {},
   "outputs": [
    {
     "name": "stdout",
     "output_type": "stream",
     "text": [
      "[[ 53  67]\n",
      " [126 163]\n",
      " [ 29  38]]\n",
      "[[2. 3. 4.]\n",
      " [5. 8. 9.]\n",
      " [1. 2. 2.]]\n",
      "[[2. 0. 0.]\n",
      " [0. 8. 0.]\n",
      " [0. 0. 2.]]\n",
      "[[ 2. inf inf]\n",
      " [inf  8. inf]\n",
      " [inf inf  2.]]\n",
      "[[ 4.  3.  4.]\n",
      " [ 5. 10.  9.]\n",
      " [ 1.  2.  4.]]\n"
     ]
    },
    {
     "name": "stderr",
     "output_type": "stream",
     "text": [
      "C:\\Users\\gsgur\\Anaconda3\\lib\\site-packages\\ipykernel_launcher.py:11: RuntimeWarning: divide by zero encountered in true_divide\n",
      "  # This is added back by InteractiveShellApp.init_path()\n"
     ]
    }
   ],
   "source": [
    "MatX = np.array([[2,3,4],[5,8,9],[1,2,2]])\n",
    "MatY = np.array([[1,2],[5,9],[9,9]])\n",
    "MatI = np.identity(3)\n",
    "\n",
    "#Dot product\n",
    "print(MatX.dot(MatY))\n",
    "print(MatX.dot(MatI))\n",
    "\n",
    "#element wise operations\n",
    "print(MatX * MatI)\n",
    "print(MatX / MatI)\n",
    "print(MatX + MatI + MatI)\n"
   ]
  },
  {
   "cell_type": "markdown",
   "metadata": {},
   "source": [
    "# Numpy functions"
   ]
  },
  {
   "cell_type": "markdown",
   "metadata": {},
   "source": [
    "### arange"
   ]
  },
  {
   "cell_type": "code",
   "execution_count": null,
   "metadata": {},
   "outputs": [],
   "source": [
    "print(np.arange(5))\n",
    "print(np.arange(3,10)) # (start, end)\n",
    "print(np.arange(3,30,5))  # (start, end, step)\n",
    "print(np.arange(25).reshape((5,5)))"
   ]
  },
  {
   "cell_type": "markdown",
   "metadata": {},
   "source": [
    "### eye and identity"
   ]
  },
  {
   "cell_type": "code",
   "execution_count": 8,
   "metadata": {},
   "outputs": [
    {
     "name": "stdout",
     "output_type": "stream",
     "text": [
      "[[1. 0. 0. 0. 0.]\n",
      " [0. 1. 0. 0. 0.]\n",
      " [0. 0. 1. 0. 0.]\n",
      " [0. 0. 0. 1. 0.]\n",
      " [0. 0. 0. 0. 1.]]\n",
      "[[1. 0. 0. 0. 0.]\n",
      " [0. 1. 0. 0. 0.]\n",
      " [0. 0. 1. 0. 0.]\n",
      " [0. 0. 0. 1. 0.]\n",
      " [0. 0. 0. 0. 1.]]\n"
     ]
    }
   ],
   "source": [
    "print(np.eye(5, dtype=np.float))\n",
    "print(np.identity(5, dtype=np.float))"
   ]
  },
  {
   "cell_type": "markdown",
   "metadata": {},
   "source": [
    "### Ones and Zeros"
   ]
  },
  {
   "cell_type": "code",
   "execution_count": 47,
   "metadata": {},
   "outputs": [
    {
     "name": "stdout",
     "output_type": "stream",
     "text": [
      "[1. 1. 1. 1. 1.]\n",
      "[[1. 1. 1.]\n",
      " [1. 1. 1.]\n",
      " [1. 1. 1.]\n",
      " [1. 1. 1.]\n",
      " [1. 1. 1.]]\n",
      "[0. 0. 0. 0.]\n",
      "[[0. 0.]\n",
      " [0. 0.]\n",
      " [0. 0.]\n",
      " [0. 0.]]\n"
     ]
    }
   ],
   "source": [
    "print(np.ones(5))\n",
    "print(np.ones((5,3)))\n",
    "print(np.zeros(4))\n",
    "print(np.zeros((4,2)))"
   ]
  },
  {
   "cell_type": "markdown",
   "metadata": {},
   "source": [
    "### Any and All"
   ]
  },
  {
   "cell_type": "code",
   "execution_count": 61,
   "metadata": {},
   "outputs": [
    {
     "name": "stdout",
     "output_type": "stream",
     "text": [
      "Axis = None\n",
      "True\n",
      "False\n",
      "True\n",
      "False\n",
      "Axis = 0\n",
      "[ True  True  True]\n",
      "[ True  True False]\n",
      "[False  True]\n",
      "[False  True]\n",
      "Axis = 1\n",
      "[ True  True  True  True  True]\n",
      "[ True  True False  True  True]\n",
      "[ True  True]\n",
      "[False False]\n"
     ]
    }
   ],
   "source": [
    "XX = [[1,2,3],[4,5,6],[7,8,0],[1,2,3],[4,5,6]]\n",
    "YY = [[0,2],[0,4]]\n",
    "\n",
    "print('Axis = None')\n",
    "print(np.any(XX))\n",
    "print(np.all(XX))\n",
    "print(np.any(YY))\n",
    "print(np.all(YY))\n",
    "\n",
    "print('Axis = 0')\n",
    "print(np.any(XX, axis = 0))\n",
    "print(np.all(XX, axis = 0))\n",
    "print(np.any(YY, axis = 0))\n",
    "print(np.all(YY, axis = 0))\n",
    "\n",
    "print('Axis = 1')\n",
    "print(np.any(XX, axis = 1))\n",
    "print(np.all(XX, axis = 1))\n",
    "print(np.any(YY, axis = 1))\n",
    "print(np.all(YY, axis = 1))"
   ]
  },
  {
   "cell_type": "markdown",
   "metadata": {},
   "source": [
    "### Repeat"
   ]
  },
  {
   "cell_type": "code",
   "execution_count": 79,
   "metadata": {},
   "outputs": [
    {
     "name": "stdout",
     "output_type": "stream",
     "text": [
      "[[ 2  3  4]\n",
      " [ 2  3  4]\n",
      " [ 2  3  4]\n",
      " [ 0 11  1]\n",
      " [ 0 11  1]\n",
      " [ 0 11  1]\n",
      " [ 2  2  6]\n",
      " [ 2  2  6]\n",
      " [ 2  2  6]]\n",
      "[[ 2  2  2  3  3  3  4  4  4]\n",
      " [ 0  0  0 11 11 11  1  1  1]\n",
      " [ 2  2  2  2  2  2  6  6  6]]\n"
     ]
    }
   ],
   "source": [
    "newMatX = np.array([[2,3,4],[0,11,1],[2,2,6]])\n",
    "print(np.repeat(newMatX, 3, axis=0))\n",
    "print(np.repeat(newMatX, 3, axis=1))"
   ]
  },
  {
   "cell_type": "markdown",
   "metadata": {},
   "source": [
    "### Concatination"
   ]
  },
  {
   "cell_type": "code",
   "execution_count": 83,
   "metadata": {},
   "outputs": [
    {
     "name": "stdout",
     "output_type": "stream",
     "text": [
      "[[ 2  3  4]\n",
      " [ 0 11  1]\n",
      " [ 2  2  6]\n",
      " [ 1  1  1]\n",
      " [ 2  2  2]\n",
      " [ 3  3  3]]\n",
      "[[ 2  3  4  1  1  1]\n",
      " [ 0 11  1  2  2  2]\n",
      " [ 2  2  6  3  3  3]]\n"
     ]
    }
   ],
   "source": [
    "newMatX = np.array([[2,3,4],[0,11,1],[2,2,6]])\n",
    "newMatY = np.array([[1,1,1],[2,2,2],[3,3,3]])\n",
    "\n",
    "print(np.concatenate((newMatX,newMatY), axis=0))\n",
    "print(np.concatenate((newMatX,newMatY), axis=1))"
   ]
  },
  {
   "cell_type": "code",
   "execution_count": null,
   "metadata": {},
   "outputs": [],
   "source": []
  },
  {
   "cell_type": "code",
   "execution_count": null,
   "metadata": {},
   "outputs": [],
   "source": []
  }
 ],
 "metadata": {
  "kernelspec": {
   "display_name": "Python 3",
   "language": "python",
   "name": "python3"
  },
  "language_info": {
   "codemirror_mode": {
    "name": "ipython",
    "version": 3
   },
   "file_extension": ".py",
   "mimetype": "text/x-python",
   "name": "python",
   "nbconvert_exporter": "python",
   "pygments_lexer": "ipython3",
   "version": "3.6.7"
  }
 },
 "nbformat": 4,
 "nbformat_minor": 2
}
