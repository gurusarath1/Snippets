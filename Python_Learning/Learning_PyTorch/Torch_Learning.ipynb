{
 "cells": [
  {
   "cell_type": "markdown",
   "metadata": {},
   "source": [
    "# PyTorch Learning\n",
    "# =============== (Guru Sarath Thangamani - 21st Oct 2020)"
   ]
  },
  {
   "cell_type": "code",
   "execution_count": 2,
   "metadata": {},
   "outputs": [],
   "source": [
    "import torch \n",
    "import numpy as np"
   ]
  },
  {
   "cell_type": "markdown",
   "metadata": {},
   "source": [
    "## Creating Tensors"
   ]
  },
  {
   "cell_type": "code",
   "execution_count": 24,
   "metadata": {},
   "outputs": [
    {
     "name": "stdout",
     "output_type": "stream",
     "text": [
      "tensor([[0., 0., 0.],\n",
      "        [0., 0., 6.]])\n",
      "tensor([[0.5772, 0.2165, 0.1945],\n",
      "        [0.6190, 0.8294, 0.2244],\n",
      "        [0.5861, 0.2548, 0.7942],\n",
      "        [0.4051, 0.7229, 0.9242],\n",
      "        [0.3353, 0.8668, 0.2588]], dtype=torch.float64)\n",
      "tensor([[-0.8249, -1.3473, -0.4149],\n",
      "        [ 0.5419,  1.0035,  0.4220],\n",
      "        [ 1.0188, -0.3198, -0.0666]], dtype=torch.float64)\n",
      "tensor([0., 0., 0., 0., 0.])\n",
      "tensor([[[1., 1., 1.],\n",
      "         [1., 1., 1.]],\n",
      "\n",
      "        [[1., 1., 1.],\n",
      "         [1., 1., 1.]],\n",
      "\n",
      "        [[1., 1., 1.],\n",
      "         [1., 1., 1.]],\n",
      "\n",
      "        [[1., 1., 1.],\n",
      "         [1., 1., 1.]],\n",
      "\n",
      "        [[1., 1., 1.],\n",
      "         [1., 1., 1.]]])\n"
     ]
    }
   ],
   "source": [
    "TensorX = torch.empty(2, 3)\n",
    "print(TensorX)\n",
    "\n",
    "TensorX = torch.rand(5, 3, dtype=torch.double)\n",
    "print(TensorX)\n",
    "\n",
    "TensorX = torch.randn(3, 3, dtype=torch.double)\n",
    "print(TensorX)\n",
    "\n",
    "TensorX = torch.zeros(5)\n",
    "print(TensorX)\n",
    "\n",
    "TensorX = torch.ones(5,2,3)\n",
    "print(TensorX)"
   ]
  },
  {
   "cell_type": "code",
   "execution_count": 18,
   "metadata": {},
   "outputs": [
    {
     "name": "stdout",
     "output_type": "stream",
     "text": [
      "tensor([1, 2, 3])\n",
      "tensor([[1., 2., 3.],\n",
      "        [4., 5., 6.]])\n",
      "tensor([[1, 2, 3],\n",
      "        [4, 5, 6]], dtype=torch.int32)\n"
     ]
    }
   ],
   "source": [
    "# Creating tensors from data\n",
    "\n",
    "TensorX = torch.tensor([1,2,3])\n",
    "print(TensorX)\n",
    "\n",
    "TensorX = torch.tensor( [[1,2,3], [4,5,6]] , dtype=torch.float)  # Forcing a datatype\n",
    "print(TensorX)\n",
    "\n",
    "TensorX = torch.tensor( [[1.4,2.6,3.6], [4.4,5.3,6.1]] , dtype=torch.int)  # Forcing a datatype\n",
    "print(TensorX)"
   ]
  },
  {
   "cell_type": "code",
   "execution_count": 16,
   "metadata": {},
   "outputs": [
    {
     "name": "stdout",
     "output_type": "stream",
     "text": [
      "torch.Size([2, 3])\n"
     ]
    }
   ],
   "source": [
    "# Get the size of tensor\n",
    "print(TensorX.size())"
   ]
  },
  {
   "cell_type": "markdown",
   "metadata": {},
   "source": [
    "## Operations"
   ]
  },
  {
   "cell_type": "code",
   "execution_count": 23,
   "metadata": {},
   "outputs": [
    {
     "name": "stdout",
     "output_type": "stream",
     "text": [
      "tensor([[ 5,  3,  7],\n",
      "        [ 7,  9, 10]])\n",
      "tensor([[1, 2, 3],\n",
      "        [6, 8, 8]])\n",
      "==========================\n",
      "tensor([[ 5,  3,  7],\n",
      "        [ 7,  9, 10]])\n",
      "tensor([[1, 2, 3],\n",
      "        [6, 8, 8]])\n",
      "==========================\n",
      "tensor([[ 5,  3,  7],\n",
      "        [ 7,  9, 10]])\n",
      "tensor([[ 5,  3,  7],\n",
      "        [ 7,  9, 10]])\n",
      "==========================\n"
     ]
    }
   ],
   "source": [
    "x = torch.tensor( [ [1,2,3] , [6,8,8] ] )\n",
    "y = torch.tensor( [ [4,1,4] , [1,1,2] ] )\n",
    "\n",
    "z = x + y\n",
    "print(z)\n",
    "print(x)\n",
    "print('==========================')\n",
    "\n",
    "z = torch.add(x,y)\n",
    "print(z)\n",
    "print(x)\n",
    "print('==========================')\n",
    "\n",
    "z = x.add_(y) # x = x + y # Result is also stored in x \n",
    "print(z)\n",
    "print(x) \n",
    "print('==========================')\n"
   ]
  },
  {
   "cell_type": "markdown",
   "metadata": {},
   "source": [
    "#### Any operation that mutates a tensor in-place is post-fixed with an _. For example: x.copy_(y), x.t_(), will change x."
   ]
  },
  {
   "cell_type": "markdown",
   "metadata": {},
   "source": [
    "## Indexing (numpy style indexing) and Reshaping (view)"
   ]
  },
  {
   "cell_type": "code",
   "execution_count": 27,
   "metadata": {},
   "outputs": [
    {
     "name": "stdout",
     "output_type": "stream",
     "text": [
      "tensor([2, 5, 8])\n",
      "tensor([[1, 2],\n",
      "        [4, 5],\n",
      "        [7, 8]])\n",
      "tensor([1, 8])\n"
     ]
    }
   ],
   "source": [
    "x = torch.tensor( [ [1,2,3] , [4,5,6] , [7,8,9] ] )\n",
    "\n",
    "# You can do numpy style indexing in pytorch\n",
    "print(x[:,1])\n",
    "print(x[:,[0,1]])\n",
    "print(x[[0,2],[0,1]])"
   ]
  },
  {
   "cell_type": "code",
   "execution_count": 35,
   "metadata": {},
   "outputs": [
    {
     "data": {
      "text/plain": [
       "tensor([1, 2, 3, 4, 5, 6, 7, 8, 9])"
      ]
     },
     "execution_count": 35,
     "metadata": {},
     "output_type": "execute_result"
    }
   ],
   "source": [
    "x.view(9) # View DOES NOT modify the tensor in-place"
   ]
  },
  {
   "cell_type": "code",
   "execution_count": 36,
   "metadata": {},
   "outputs": [
    {
     "data": {
      "text/plain": [
       "tensor([[[1],\n",
       "         [2],\n",
       "         [3]],\n",
       "\n",
       "        [[4],\n",
       "         [5],\n",
       "         [6]],\n",
       "\n",
       "        [[7],\n",
       "         [8],\n",
       "         [9]]])"
      ]
     },
     "execution_count": 36,
     "metadata": {},
     "output_type": "execute_result"
    }
   ],
   "source": [
    "x.view(3,3,1) # Channel x Row x Col"
   ]
  },
  {
   "cell_type": "code",
   "execution_count": 37,
   "metadata": {},
   "outputs": [
    {
     "data": {
      "text/plain": [
       "tensor([[[1, 2, 3],\n",
       "         [4, 5, 6],\n",
       "         [7, 8, 9]]])"
      ]
     },
     "execution_count": 37,
     "metadata": {},
     "output_type": "execute_result"
    }
   ],
   "source": [
    "x.view(1,3,3)"
   ]
  },
  {
   "cell_type": "markdown",
   "metadata": {},
   "source": [
    "# Numpy integration"
   ]
  },
  {
   "cell_type": "code",
   "execution_count": 39,
   "metadata": {},
   "outputs": [
    {
     "name": "stdout",
     "output_type": "stream",
     "text": [
      "tensor([[ 0.3196,  0.5136, -3.2624, -1.2054],\n",
      "        [-0.5133,  1.1400, -2.3886, -1.0646],\n",
      "        [-0.1924, -2.0602, -0.0669, -0.2594],\n",
      "        [-0.9280, -1.4014,  1.5821, -0.6943]])\n"
     ]
    },
    {
     "data": {
      "text/plain": [
       "array([[ 0.31960917,  0.5135996 , -3.262378  , -1.2054011 ],\n",
       "       [-0.51329434,  1.1399745 , -2.3885808 , -1.0646492 ],\n",
       "       [-0.1924316 , -2.0601523 , -0.06690224, -0.25944534],\n",
       "       [-0.92797995, -1.4014028 ,  1.5821017 , -0.6943422 ]],\n",
       "      dtype=float32)"
      ]
     },
     "execution_count": 39,
     "metadata": {},
     "output_type": "execute_result"
    }
   ],
   "source": [
    "x = torch.randn(4,4)\n",
    "print(x)\n",
    "print(x.numpy())"
   ]
  },
  {
   "cell_type": "code",
   "execution_count": 49,
   "metadata": {},
   "outputs": [
    {
     "name": "stdout",
     "output_type": "stream",
     "text": [
      "[ 5  6  7  8  9 10 11 12 13 14]\n",
      "tensor([ 5,  6,  7,  8,  9, 10, 11, 12, 13, 14], dtype=torch.int32)\n",
      "==================================\n",
      "tensor([999,   6,   7,   8,   9,  10,  11,  12,  13,  14], dtype=torch.int32)\n"
     ]
    }
   ],
   "source": [
    "x = np.arange(5,15)\n",
    "print(x)\n",
    "\n",
    "y = torch.tensor(x)   # Creates a New Tensor form numpy array\n",
    "x[0] = 999  # Changing x does not change y\n",
    "print(y)\n",
    "x[0] = 5\n",
    "\n",
    "print('==================================')\n",
    "\n",
    "y = torch.from_numpy(x)    # Creates a Tensor using the existing numpy array\n",
    "x[0] = 999                 # In this case changing the numpy array alo changes the tensor\n",
    "print(y)"
   ]
  },
  {
   "cell_type": "markdown",
   "metadata": {},
   "source": [
    "## CUDA"
   ]
  },
  {
   "cell_type": "code",
   "execution_count": 51,
   "metadata": {},
   "outputs": [
    {
     "name": "stdout",
     "output_type": "stream",
     "text": [
      "CUDA is available\n"
     ]
    }
   ],
   "source": [
    "if torch.cuda.is_available():\n",
    "    print('CUDA is available')"
   ]
  },
  {
   "cell_type": "code",
   "execution_count": 55,
   "metadata": {},
   "outputs": [
    {
     "name": "stdout",
     "output_type": "stream",
     "text": [
      "tensor([[ 2,  3,  4],\n",
      "        [ 5,  6,  7],\n",
      "        [ 8,  9, 10]], device='cuda:0')\n",
      "tensor([[ 2.,  3.,  4.],\n",
      "        [ 5.,  6.,  7.],\n",
      "        [ 8.,  9., 10.]], dtype=torch.float64)\n"
     ]
    }
   ],
   "source": [
    "x = torch.tensor([[1,2,3],[4,5,6],[7,8,9]])\n",
    "\n",
    "if torch.cuda.is_available():\n",
    "    device = torch.device(\"cuda\")\n",
    "    y = torch.ones_like(x, device=device) #\n",
    "    x = x.to(device)\n",
    "    z = x + y\n",
    "    print(z)\n",
    "    print(z.to(\"cpu\", torch.double))"
   ]
  },
  {
   "cell_type": "markdown",
   "metadata": {},
   "source": [
    "## Autograd: Automatic Differentiation"
   ]
  },
  {
   "cell_type": "code",
   "execution_count": 68,
   "metadata": {},
   "outputs": [
    {
     "name": "stdout",
     "output_type": "stream",
     "text": [
      "tensor(194., dtype=torch.float64, grad_fn=<SumBackward0>)\n"
     ]
    }
   ],
   "source": [
    "x = torch.tensor([7,8,9], requires_grad=True, dtype=torch.double)\n",
    "y = x*x\n",
    "y = torch.sum(y)\n",
    "print(y)"
   ]
  },
  {
   "cell_type": "code",
   "execution_count": 69,
   "metadata": {},
   "outputs": [
    {
     "data": {
      "text/plain": [
       "tensor([14., 16., 18.], dtype=torch.float64)"
      ]
     },
     "execution_count": 69,
     "metadata": {},
     "output_type": "execute_result"
    }
   ],
   "source": [
    "y.backward()\n",
    "x.grad"
   ]
  },
  {
   "cell_type": "markdown",
   "metadata": {},
   "source": [
    "## Linear Regression"
   ]
  },
  {
   "cell_type": "code",
   "execution_count": 76,
   "metadata": {},
   "outputs": [
    {
     "data": {
      "text/plain": [
       "(3432, 6)"
      ]
     },
     "execution_count": 76,
     "metadata": {},
     "output_type": "execute_result"
    }
   ],
   "source": [
    "DataSet = np.genfromtxt('LR_DataSet_Toy.csv', delimiter = ',', skip_header=1)\n",
    "DataSet.shape"
   ]
  },
  {
   "cell_type": "code",
   "execution_count": 77,
   "metadata": {},
   "outputs": [
    {
     "name": "stdout",
     "output_type": "stream",
     "text": [
      "(3432,)\n",
      "(3432, 5)\n"
     ]
    }
   ],
   "source": [
    "y = DataSet[:,-1]\n",
    "X = DataSet[:,0:-1]\n",
    "\n",
    "print(y.shape)\n",
    "print(X.shape)"
   ]
  },
  {
   "cell_type": "code",
   "execution_count": 96,
   "metadata": {},
   "outputs": [
    {
     "name": "stdout",
     "output_type": "stream",
     "text": [
      "(3000, 5) (3000,)\n",
      "(432, 5) (432,)\n"
     ]
    }
   ],
   "source": [
    "num_train_samples = 3000\n",
    "\n",
    "X_train = X[0:num_train_samples, :]\n",
    "X_val = X[num_train_samples:, :]\n",
    "\n",
    "y_train = y[0:num_train_samples]\n",
    "y_val = y[num_train_samples:]\n",
    "\n",
    "print(X_train.shape, y_train.shape)\n",
    "print(X_val.shape, y_val.shape)\n",
    "\n",
    "X_train_tensor = torch.from_numpy(X_train)\n",
    "y_train_tensor = torch.from_numpy(y_train).view(-1,1)\n",
    "\n",
    "X_val_tensor = torch.from_numpy(X_val)\n",
    "y_val_tensor = torch.from_numpy(y_val).view(-1,1)"
   ]
  },
  {
   "cell_type": "code",
   "execution_count": 97,
   "metadata": {},
   "outputs": [
    {
     "name": "stdout",
     "output_type": "stream",
     "text": [
      "Parameter containing:\n",
      "tensor([[ 0.1432,  0.1108,  0.2393,  0.4025, -0.3647]], requires_grad=True)\n",
      "Parameter containing:\n",
      "tensor([0.0481], requires_grad=True)\n"
     ]
    }
   ],
   "source": [
    "num_input_features = X_train.shape[1]\n",
    "num_output_features = 1\n",
    "\n",
    "LR = torch.nn.Linear(num_input_features, num_output_features)\n",
    "print(LR.weight)\n",
    "print(LR.bias)"
   ]
  },
  {
   "cell_type": "code",
   "execution_count": 98,
   "metadata": {},
   "outputs": [
    {
     "data": {
      "text/plain": [
       "[Parameter containing:\n",
       " tensor([[ 0.1432,  0.1108,  0.2393,  0.4025, -0.3647]], requires_grad=True),\n",
       " Parameter containing:\n",
       " tensor([0.0481], requires_grad=True)]"
      ]
     },
     "execution_count": 98,
     "metadata": {},
     "output_type": "execute_result"
    }
   ],
   "source": [
    "list(LR.parameters())"
   ]
  },
  {
   "cell_type": "code",
   "execution_count": 99,
   "metadata": {},
   "outputs": [
    {
     "name": "stdout",
     "output_type": "stream",
     "text": [
      "tensor([[0.7206],\n",
      "        [0.5993],\n",
      "        [1.2819],\n",
      "        ...,\n",
      "        [1.0416],\n",
      "        [1.3298],\n",
      "        [1.1346]], grad_fn=<AddmmBackward>)\n"
     ]
    }
   ],
   "source": [
    "preds = LR(X_train_tensor.float())\n",
    "print(preds)"
   ]
  },
  {
   "cell_type": "markdown",
   "metadata": {},
   "source": [
    "### Loss function"
   ]
  },
  {
   "cell_type": "code",
   "execution_count": 100,
   "metadata": {},
   "outputs": [],
   "source": [
    "import torch.nn.functional as F"
   ]
  },
  {
   "cell_type": "code",
   "execution_count": 101,
   "metadata": {},
   "outputs": [
    {
     "name": "stdout",
     "output_type": "stream",
     "text": [
      "tensor(877.8418, dtype=torch.float64, grad_fn=<MseLossBackward>)\n"
     ]
    }
   ],
   "source": [
    "loss_fn = F.mse_loss\n",
    "loss = loss_fn(LR(X_train_tensor.float()), y_train_tensor)\n",
    "print(loss)"
   ]
  },
  {
   "cell_type": "markdown",
   "metadata": {},
   "source": [
    "### Optimizer"
   ]
  },
  {
   "cell_type": "code",
   "execution_count": 110,
   "metadata": {},
   "outputs": [],
   "source": [
    "opt = torch.optim.SGD(LR.parameters(), lr=1e-5)"
   ]
  },
  {
   "cell_type": "markdown",
   "metadata": {},
   "source": [
    "### Training"
   ]
  },
  {
   "cell_type": "code",
   "execution_count": 111,
   "metadata": {},
   "outputs": [],
   "source": [
    "if torch.cuda.is_available():  \n",
    "    dev = \"cuda:0\" \n",
    "else:  \n",
    "    dev = \"cpu\"\n",
    "\n",
    "device = torch.device(dev)"
   ]
  },
  {
   "cell_type": "code",
   "execution_count": 121,
   "metadata": {},
   "outputs": [
    {
     "name": "stdout",
     "output_type": "stream",
     "text": [
      "Loss =  tensor(0.7683, grad_fn=<MseLossBackward>)\n",
      "Loss =  tensor(0.7683, grad_fn=<MseLossBackward>)\n",
      "Loss =  tensor(0.7683, grad_fn=<MseLossBackward>)\n",
      "Loss =  tensor(0.7683, grad_fn=<MseLossBackward>)\n",
      "Loss =  tensor(0.7683, grad_fn=<MseLossBackward>)\n",
      "Loss =  tensor(0.7683, grad_fn=<MseLossBackward>)\n",
      "Loss =  tensor(0.7683, grad_fn=<MseLossBackward>)\n",
      "Loss =  tensor(0.7683, grad_fn=<MseLossBackward>)\n",
      "Loss =  tensor(0.7683, grad_fn=<MseLossBackward>)\n",
      "Loss =  tensor(0.7683, grad_fn=<MseLossBackward>)\n",
      "Loss =  tensor(0.7683, grad_fn=<MseLossBackward>)\n",
      "Loss =  tensor(0.7683, grad_fn=<MseLossBackward>)\n",
      "Loss =  tensor(0.7683, grad_fn=<MseLossBackward>)\n",
      "Loss =  tensor(0.7683, grad_fn=<MseLossBackward>)\n",
      "Loss =  tensor(0.7683, grad_fn=<MseLossBackward>)\n",
      "Loss =  tensor(0.7683, grad_fn=<MseLossBackward>)\n",
      "Loss =  tensor(0.7683, grad_fn=<MseLossBackward>)\n",
      "Loss =  tensor(0.7683, grad_fn=<MseLossBackward>)\n",
      "Loss =  tensor(0.7683, grad_fn=<MseLossBackward>)\n",
      "Loss =  tensor(0.7683, grad_fn=<MseLossBackward>)\n",
      "Loss =  tensor(0.7683, grad_fn=<MseLossBackward>)\n",
      "Loss =  tensor(0.7683, grad_fn=<MseLossBackward>)\n",
      "Loss =  tensor(0.7683, grad_fn=<MseLossBackward>)\n",
      "Loss =  tensor(0.7683, grad_fn=<MseLossBackward>)\n",
      "Loss =  tensor(0.7683, grad_fn=<MseLossBackward>)\n",
      "Loss =  tensor(0.7683, grad_fn=<MseLossBackward>)\n",
      "Loss =  tensor(0.7683, grad_fn=<MseLossBackward>)\n",
      "Loss =  tensor(0.7683, grad_fn=<MseLossBackward>)\n",
      "Loss =  tensor(0.7683, grad_fn=<MseLossBackward>)\n",
      "Loss =  tensor(0.7683, grad_fn=<MseLossBackward>)\n",
      "Loss =  tensor(0.7683, grad_fn=<MseLossBackward>)\n",
      "Loss =  tensor(0.7683, grad_fn=<MseLossBackward>)\n",
      "Loss =  tensor(0.7683, grad_fn=<MseLossBackward>)\n",
      "Loss =  tensor(0.7683, grad_fn=<MseLossBackward>)\n",
      "Loss =  tensor(0.7683, grad_fn=<MseLossBackward>)\n",
      "Loss =  tensor(0.7683, grad_fn=<MseLossBackward>)\n",
      "Loss =  tensor(0.7683, grad_fn=<MseLossBackward>)\n",
      "Loss =  tensor(0.7683, grad_fn=<MseLossBackward>)\n",
      "Loss =  tensor(0.7683, grad_fn=<MseLossBackward>)\n",
      "Loss =  tensor(0.7683, grad_fn=<MseLossBackward>)\n",
      "Loss =  tensor(0.7683, grad_fn=<MseLossBackward>)\n",
      "Loss =  tensor(0.7683, grad_fn=<MseLossBackward>)\n",
      "Loss =  tensor(0.7683, grad_fn=<MseLossBackward>)\n",
      "Loss =  tensor(0.7683, grad_fn=<MseLossBackward>)\n",
      "Loss =  tensor(0.7683, grad_fn=<MseLossBackward>)\n",
      "Loss =  tensor(0.7683, grad_fn=<MseLossBackward>)\n",
      "Loss =  tensor(0.7683, grad_fn=<MseLossBackward>)\n",
      "Loss =  tensor(0.7683, grad_fn=<MseLossBackward>)\n",
      "Loss =  tensor(0.7683, grad_fn=<MseLossBackward>)\n",
      "Loss =  tensor(0.7683, grad_fn=<MseLossBackward>)\n",
      "Loss =  tensor(0.7683, grad_fn=<MseLossBackward>)\n",
      "Loss =  tensor(0.7683, grad_fn=<MseLossBackward>)\n",
      "Loss =  tensor(0.7683, grad_fn=<MseLossBackward>)\n",
      "Loss =  tensor(0.7683, grad_fn=<MseLossBackward>)\n",
      "Loss =  tensor(0.7683, grad_fn=<MseLossBackward>)\n",
      "Loss =  tensor(0.7683, grad_fn=<MseLossBackward>)\n",
      "Loss =  tensor(0.7683, grad_fn=<MseLossBackward>)\n",
      "Loss =  tensor(0.7683, grad_fn=<MseLossBackward>)\n",
      "Loss =  tensor(0.7683, grad_fn=<MseLossBackward>)\n",
      "Loss =  tensor(0.7683, grad_fn=<MseLossBackward>)\n",
      "Loss =  tensor(0.7683, grad_fn=<MseLossBackward>)\n",
      "Loss =  tensor(0.7683, grad_fn=<MseLossBackward>)\n",
      "Loss =  tensor(0.7683, grad_fn=<MseLossBackward>)\n",
      "Loss =  tensor(0.7683, grad_fn=<MseLossBackward>)\n",
      "Loss =  tensor(0.7683, grad_fn=<MseLossBackward>)\n",
      "Loss =  tensor(0.7683, grad_fn=<MseLossBackward>)\n",
      "Loss =  tensor(0.7683, grad_fn=<MseLossBackward>)\n",
      "Loss =  tensor(0.7683, grad_fn=<MseLossBackward>)\n",
      "Loss =  tensor(0.7683, grad_fn=<MseLossBackward>)\n",
      "Loss =  tensor(0.7683, grad_fn=<MseLossBackward>)\n",
      "Loss =  tensor(0.7683, grad_fn=<MseLossBackward>)\n",
      "Loss =  tensor(0.7683, grad_fn=<MseLossBackward>)\n",
      "Loss =  tensor(0.7683, grad_fn=<MseLossBackward>)\n",
      "Loss =  tensor(0.7683, grad_fn=<MseLossBackward>)\n",
      "Loss =  tensor(0.7683, grad_fn=<MseLossBackward>)\n",
      "Loss =  tensor(0.7683, grad_fn=<MseLossBackward>)\n",
      "Loss =  tensor(0.7683, grad_fn=<MseLossBackward>)\n",
      "Loss =  tensor(0.7683, grad_fn=<MseLossBackward>)\n",
      "Loss =  tensor(0.7683, grad_fn=<MseLossBackward>)\n",
      "Loss =  tensor(0.7683, grad_fn=<MseLossBackward>)\n",
      "Loss =  tensor(0.7683, grad_fn=<MseLossBackward>)\n",
      "Loss =  tensor(0.7683, grad_fn=<MseLossBackward>)\n",
      "Loss =  tensor(0.7683, grad_fn=<MseLossBackward>)\n",
      "Loss =  tensor(0.7683, grad_fn=<MseLossBackward>)\n",
      "Loss =  tensor(0.7683, grad_fn=<MseLossBackward>)\n",
      "Loss =  tensor(0.7683, grad_fn=<MseLossBackward>)\n",
      "Loss =  tensor(0.7683, grad_fn=<MseLossBackward>)\n",
      "Loss =  tensor(0.7683, grad_fn=<MseLossBackward>)\n",
      "Loss =  tensor(0.7683, grad_fn=<MseLossBackward>)\n",
      "Loss =  tensor(0.7683, grad_fn=<MseLossBackward>)\n",
      "Loss =  tensor(0.7683, grad_fn=<MseLossBackward>)\n",
      "Loss =  tensor(0.7683, grad_fn=<MseLossBackward>)\n",
      "Loss =  tensor(0.7683, grad_fn=<MseLossBackward>)\n",
      "Loss =  tensor(0.7683, grad_fn=<MseLossBackward>)\n",
      "Loss =  tensor(0.7683, grad_fn=<MseLossBackward>)\n",
      "Loss =  tensor(0.7683, grad_fn=<MseLossBackward>)\n",
      "Loss =  tensor(0.7683, grad_fn=<MseLossBackward>)\n",
      "Loss =  tensor(0.7683, grad_fn=<MseLossBackward>)\n",
      "Loss =  tensor(0.7683, grad_fn=<MseLossBackward>)\n",
      "Loss =  tensor(0.7683, grad_fn=<MseLossBackward>)\n",
      "Loss =  tensor(0.7683, grad_fn=<MseLossBackward>)\n",
      "Loss =  tensor(0.7683, grad_fn=<MseLossBackward>)\n",
      "Loss =  tensor(0.7683, grad_fn=<MseLossBackward>)\n",
      "Loss =  tensor(0.7683, grad_fn=<MseLossBackward>)\n",
      "Loss =  tensor(0.7683, grad_fn=<MseLossBackward>)\n",
      "Loss =  tensor(0.7683, grad_fn=<MseLossBackward>)\n",
      "Loss =  tensor(0.7683, grad_fn=<MseLossBackward>)\n",
      "Loss =  tensor(0.7683, grad_fn=<MseLossBackward>)\n",
      "Loss =  tensor(0.7683, grad_fn=<MseLossBackward>)\n",
      "Loss =  tensor(0.7683, grad_fn=<MseLossBackward>)\n",
      "Loss =  tensor(0.7683, grad_fn=<MseLossBackward>)\n",
      "Loss =  tensor(0.7683, grad_fn=<MseLossBackward>)\n",
      "Loss =  tensor(0.7683, grad_fn=<MseLossBackward>)\n",
      "Loss =  tensor(0.7683, grad_fn=<MseLossBackward>)\n",
      "Loss =  tensor(0.7683, grad_fn=<MseLossBackward>)\n",
      "Loss =  tensor(0.7683, grad_fn=<MseLossBackward>)\n",
      "Loss =  tensor(0.7683, grad_fn=<MseLossBackward>)\n",
      "Loss =  tensor(0.7683, grad_fn=<MseLossBackward>)\n",
      "Loss =  tensor(0.7683, grad_fn=<MseLossBackward>)\n",
      "Loss =  tensor(0.7683, grad_fn=<MseLossBackward>)\n",
      "Loss =  tensor(0.7683, grad_fn=<MseLossBackward>)\n",
      "Loss =  tensor(0.7683, grad_fn=<MseLossBackward>)\n",
      "Loss =  tensor(0.7683, grad_fn=<MseLossBackward>)\n",
      "Loss =  tensor(0.7683, grad_fn=<MseLossBackward>)\n",
      "Loss =  tensor(0.7683, grad_fn=<MseLossBackward>)\n",
      "Loss =  tensor(0.7683, grad_fn=<MseLossBackward>)\n",
      "Loss =  tensor(0.7683, grad_fn=<MseLossBackward>)\n",
      "Loss =  tensor(0.7683, grad_fn=<MseLossBackward>)\n",
      "Loss =  tensor(0.7683, grad_fn=<MseLossBackward>)\n",
      "Loss =  tensor(0.7683, grad_fn=<MseLossBackward>)\n",
      "Loss =  tensor(0.7683, grad_fn=<MseLossBackward>)\n",
      "Loss =  tensor(0.7683, grad_fn=<MseLossBackward>)\n",
      "Loss =  tensor(0.7683, grad_fn=<MseLossBackward>)\n",
      "Loss =  tensor(0.7683, grad_fn=<MseLossBackward>)\n",
      "Loss =  tensor(0.7683, grad_fn=<MseLossBackward>)\n",
      "Loss =  tensor(0.7683, grad_fn=<MseLossBackward>)\n",
      "Loss =  tensor(0.7683, grad_fn=<MseLossBackward>)\n",
      "Loss =  tensor(0.7683, grad_fn=<MseLossBackward>)\n",
      "Loss =  tensor(0.7683, grad_fn=<MseLossBackward>)\n",
      "Loss =  tensor(0.7683, grad_fn=<MseLossBackward>)\n",
      "Loss =  tensor(0.7683, grad_fn=<MseLossBackward>)\n",
      "Loss =  tensor(0.7683, grad_fn=<MseLossBackward>)\n",
      "Loss =  tensor(0.7683, grad_fn=<MseLossBackward>)\n",
      "Loss =  tensor(0.7683, grad_fn=<MseLossBackward>)\n",
      "Loss =  tensor(0.7683, grad_fn=<MseLossBackward>)\n",
      "Loss =  tensor(0.7683, grad_fn=<MseLossBackward>)\n",
      "Loss =  tensor(0.7683, grad_fn=<MseLossBackward>)\n",
      "Loss =  tensor(0.7683, grad_fn=<MseLossBackward>)\n",
      "Loss =  tensor(0.7683, grad_fn=<MseLossBackward>)\n",
      "Loss =  tensor(0.7683, grad_fn=<MseLossBackward>)\n",
      "Loss =  tensor(0.7683, grad_fn=<MseLossBackward>)\n",
      "Loss =  tensor(0.7683, grad_fn=<MseLossBackward>)\n",
      "Loss =  tensor(0.7683, grad_fn=<MseLossBackward>)\n",
      "Loss =  tensor(0.7683, grad_fn=<MseLossBackward>)\n",
      "Loss =  tensor(0.7683, grad_fn=<MseLossBackward>)\n",
      "Loss =  tensor(0.7683, grad_fn=<MseLossBackward>)\n",
      "Loss =  tensor(0.7683, grad_fn=<MseLossBackward>)\n",
      "Loss =  tensor(0.7683, grad_fn=<MseLossBackward>)\n",
      "Loss =  tensor(0.7683, grad_fn=<MseLossBackward>)\n",
      "Loss =  tensor(0.7683, grad_fn=<MseLossBackward>)\n",
      "Loss =  tensor(0.7683, grad_fn=<MseLossBackward>)\n",
      "Loss =  tensor(0.7683, grad_fn=<MseLossBackward>)\n",
      "Loss =  tensor(0.7683, grad_fn=<MseLossBackward>)\n",
      "Loss =  tensor(0.7683, grad_fn=<MseLossBackward>)\n",
      "Loss =  tensor(0.7683, grad_fn=<MseLossBackward>)\n",
      "Loss =  tensor(0.7683, grad_fn=<MseLossBackward>)\n",
      "Loss =  tensor(0.7683, grad_fn=<MseLossBackward>)\n",
      "Loss =  tensor(0.7683, grad_fn=<MseLossBackward>)\n",
      "Loss =  tensor(0.7683, grad_fn=<MseLossBackward>)\n",
      "Loss =  tensor(0.7683, grad_fn=<MseLossBackward>)\n",
      "Loss =  tensor(0.7683, grad_fn=<MseLossBackward>)\n",
      "Loss =  tensor(0.7683, grad_fn=<MseLossBackward>)\n",
      "Loss =  tensor(0.7683, grad_fn=<MseLossBackward>)\n",
      "Loss =  tensor(0.7683, grad_fn=<MseLossBackward>)\n",
      "Loss =  tensor(0.7683, grad_fn=<MseLossBackward>)\n",
      "Loss =  tensor(0.7683, grad_fn=<MseLossBackward>)\n",
      "Loss =  tensor(0.7683, grad_fn=<MseLossBackward>)\n",
      "Loss =  tensor(0.7683, grad_fn=<MseLossBackward>)\n",
      "Loss =  tensor(0.7683, grad_fn=<MseLossBackward>)\n",
      "Loss =  tensor(0.7683, grad_fn=<MseLossBackward>)\n",
      "Loss =  tensor(0.7683, grad_fn=<MseLossBackward>)\n",
      "Loss =  tensor(0.7683, grad_fn=<MseLossBackward>)\n",
      "Loss =  tensor(0.7683, grad_fn=<MseLossBackward>)\n",
      "Loss =  tensor(0.7683, grad_fn=<MseLossBackward>)\n",
      "Loss =  tensor(0.7683, grad_fn=<MseLossBackward>)\n",
      "Loss =  tensor(0.7683, grad_fn=<MseLossBackward>)\n",
      "Loss =  tensor(0.7683, grad_fn=<MseLossBackward>)\n",
      "Loss =  tensor(0.7683, grad_fn=<MseLossBackward>)\n",
      "Loss =  tensor(0.7683, grad_fn=<MseLossBackward>)\n",
      "Loss =  tensor(0.7683, grad_fn=<MseLossBackward>)\n",
      "Loss =  tensor(0.7683, grad_fn=<MseLossBackward>)\n",
      "Loss =  tensor(0.7683, grad_fn=<MseLossBackward>)\n",
      "Loss =  tensor(0.7683, grad_fn=<MseLossBackward>)\n",
      "Loss =  tensor(0.7683, grad_fn=<MseLossBackward>)\n",
      "Loss =  tensor(0.7683, grad_fn=<MseLossBackward>)\n",
      "Loss =  tensor(0.7683, grad_fn=<MseLossBackward>)\n",
      "Loss =  tensor(0.7683, grad_fn=<MseLossBackward>)\n",
      "Loss =  tensor(0.7683, grad_fn=<MseLossBackward>)\n",
      "Loss =  tensor(0.7683, grad_fn=<MseLossBackward>)\n",
      "Loss =  tensor(0.7683, grad_fn=<MseLossBackward>)\n",
      "Loss =  tensor(0.7683, grad_fn=<MseLossBackward>)\n",
      "Loss =  tensor(0.7683, grad_fn=<MseLossBackward>)\n",
      "Loss =  tensor(0.7683, grad_fn=<MseLossBackward>)\n",
      "Loss =  tensor(0.7683, grad_fn=<MseLossBackward>)\n",
      "Loss =  tensor(0.7683, grad_fn=<MseLossBackward>)\n",
      "Loss =  tensor(0.7683, grad_fn=<MseLossBackward>)\n",
      "Loss =  "
     ]
    },
    {
     "ename": "KeyboardInterrupt",
     "evalue": "",
     "output_type": "error",
     "traceback": [
      "\u001b[1;31m---------------------------------------------------------------------------\u001b[0m",
      "\u001b[1;31mKeyboardInterrupt\u001b[0m                         Traceback (most recent call last)",
      "\u001b[1;32m<ipython-input-121-78c71c7aac1b>\u001b[0m in \u001b[0;36m<module>\u001b[1;34m\u001b[0m\n\u001b[0;32m     17\u001b[0m \u001b[1;33m\u001b[0m\u001b[0m\n\u001b[0;32m     18\u001b[0m     \u001b[1;32mif\u001b[0m \u001b[0mi\u001b[0m \u001b[1;33m%\u001b[0m \u001b[1;36m10\u001b[0m \u001b[1;33m==\u001b[0m \u001b[1;36m0\u001b[0m\u001b[1;33m:\u001b[0m\u001b[1;33m\u001b[0m\u001b[1;33m\u001b[0m\u001b[0m\n\u001b[1;32m---> 19\u001b[1;33m         \u001b[0mprint\u001b[0m\u001b[1;33m(\u001b[0m\u001b[1;34m'Loss = '\u001b[0m\u001b[1;33m,\u001b[0m \u001b[0mloss\u001b[0m\u001b[1;33m)\u001b[0m\u001b[1;33m\u001b[0m\u001b[1;33m\u001b[0m\u001b[0m\n\u001b[0m",
      "\u001b[1;32m~\\Anaconda3\\envs\\GPU_Power\\lib\\site-packages\\torch\\tensor.py\u001b[0m in \u001b[0;36m__repr__\u001b[1;34m(self)\u001b[0m\n\u001b[0;32m    151\u001b[0m     \u001b[1;32mdef\u001b[0m \u001b[0m__repr__\u001b[0m\u001b[1;33m(\u001b[0m\u001b[0mself\u001b[0m\u001b[1;33m)\u001b[0m\u001b[1;33m:\u001b[0m\u001b[1;33m\u001b[0m\u001b[1;33m\u001b[0m\u001b[0m\n\u001b[0;32m    152\u001b[0m         \u001b[1;31m# All strings are unicode in Python 3.\u001b[0m\u001b[1;33m\u001b[0m\u001b[1;33m\u001b[0m\u001b[1;33m\u001b[0m\u001b[0m\n\u001b[1;32m--> 153\u001b[1;33m         \u001b[1;32mreturn\u001b[0m \u001b[0mtorch\u001b[0m\u001b[1;33m.\u001b[0m\u001b[0m_tensor_str\u001b[0m\u001b[1;33m.\u001b[0m\u001b[0m_str\u001b[0m\u001b[1;33m(\u001b[0m\u001b[0mself\u001b[0m\u001b[1;33m)\u001b[0m\u001b[1;33m\u001b[0m\u001b[1;33m\u001b[0m\u001b[0m\n\u001b[0m\u001b[0;32m    154\u001b[0m \u001b[1;33m\u001b[0m\u001b[0m\n\u001b[0;32m    155\u001b[0m     \u001b[1;32mdef\u001b[0m \u001b[0mbackward\u001b[0m\u001b[1;33m(\u001b[0m\u001b[0mself\u001b[0m\u001b[1;33m,\u001b[0m \u001b[0mgradient\u001b[0m\u001b[1;33m=\u001b[0m\u001b[1;32mNone\u001b[0m\u001b[1;33m,\u001b[0m \u001b[0mretain_graph\u001b[0m\u001b[1;33m=\u001b[0m\u001b[1;32mNone\u001b[0m\u001b[1;33m,\u001b[0m \u001b[0mcreate_graph\u001b[0m\u001b[1;33m=\u001b[0m\u001b[1;32mFalse\u001b[0m\u001b[1;33m)\u001b[0m\u001b[1;33m:\u001b[0m\u001b[1;33m\u001b[0m\u001b[1;33m\u001b[0m\u001b[0m\n",
      "\u001b[1;32m~\\Anaconda3\\envs\\GPU_Power\\lib\\site-packages\\torch\\_tensor_str.py\u001b[0m in \u001b[0;36m_str\u001b[1;34m(self)\u001b[0m\n\u001b[0;32m    369\u001b[0m \u001b[1;32mdef\u001b[0m \u001b[0m_str\u001b[0m\u001b[1;33m(\u001b[0m\u001b[0mself\u001b[0m\u001b[1;33m)\u001b[0m\u001b[1;33m:\u001b[0m\u001b[1;33m\u001b[0m\u001b[1;33m\u001b[0m\u001b[0m\n\u001b[0;32m    370\u001b[0m     \u001b[1;32mwith\u001b[0m \u001b[0mtorch\u001b[0m\u001b[1;33m.\u001b[0m\u001b[0mno_grad\u001b[0m\u001b[1;33m(\u001b[0m\u001b[1;33m)\u001b[0m\u001b[1;33m:\u001b[0m\u001b[1;33m\u001b[0m\u001b[1;33m\u001b[0m\u001b[0m\n\u001b[1;32m--> 371\u001b[1;33m         \u001b[1;32mreturn\u001b[0m \u001b[0m_str_intern\u001b[0m\u001b[1;33m(\u001b[0m\u001b[0mself\u001b[0m\u001b[1;33m)\u001b[0m\u001b[1;33m\u001b[0m\u001b[1;33m\u001b[0m\u001b[0m\n\u001b[0m",
      "\u001b[1;32m~\\Anaconda3\\envs\\GPU_Power\\lib\\site-packages\\torch\\_tensor_str.py\u001b[0m in \u001b[0;36m_str_intern\u001b[1;34m(self)\u001b[0m\n\u001b[0;32m    349\u001b[0m                     \u001b[0mtensor_str\u001b[0m \u001b[1;33m=\u001b[0m \u001b[0m_tensor_str\u001b[0m\u001b[1;33m(\u001b[0m\u001b[0mself\u001b[0m\u001b[1;33m.\u001b[0m\u001b[0mto_dense\u001b[0m\u001b[1;33m(\u001b[0m\u001b[1;33m)\u001b[0m\u001b[1;33m,\u001b[0m \u001b[0mindent\u001b[0m\u001b[1;33m)\u001b[0m\u001b[1;33m\u001b[0m\u001b[1;33m\u001b[0m\u001b[0m\n\u001b[0;32m    350\u001b[0m                 \u001b[1;32melse\u001b[0m\u001b[1;33m:\u001b[0m\u001b[1;33m\u001b[0m\u001b[1;33m\u001b[0m\u001b[0m\n\u001b[1;32m--> 351\u001b[1;33m                     \u001b[0mtensor_str\u001b[0m \u001b[1;33m=\u001b[0m \u001b[0m_tensor_str\u001b[0m\u001b[1;33m(\u001b[0m\u001b[0mself\u001b[0m\u001b[1;33m,\u001b[0m \u001b[0mindent\u001b[0m\u001b[1;33m)\u001b[0m\u001b[1;33m\u001b[0m\u001b[1;33m\u001b[0m\u001b[0m\n\u001b[0m\u001b[0;32m    352\u001b[0m \u001b[1;33m\u001b[0m\u001b[0m\n\u001b[0;32m    353\u001b[0m     \u001b[1;32mif\u001b[0m \u001b[0mself\u001b[0m\u001b[1;33m.\u001b[0m\u001b[0mlayout\u001b[0m \u001b[1;33m!=\u001b[0m \u001b[0mtorch\u001b[0m\u001b[1;33m.\u001b[0m\u001b[0mstrided\u001b[0m\u001b[1;33m:\u001b[0m\u001b[1;33m\u001b[0m\u001b[1;33m\u001b[0m\u001b[0m\n",
      "\u001b[1;32m~\\Anaconda3\\envs\\GPU_Power\\lib\\site-packages\\torch\\_tensor_str.py\u001b[0m in \u001b[0;36m_tensor_str\u001b[1;34m(self, indent)\u001b[0m\n\u001b[0;32m    239\u001b[0m         \u001b[1;32mreturn\u001b[0m \u001b[0m_tensor_str_with_formatter\u001b[0m\u001b[1;33m(\u001b[0m\u001b[0mself\u001b[0m\u001b[1;33m,\u001b[0m \u001b[0mindent\u001b[0m\u001b[1;33m,\u001b[0m \u001b[0msummarize\u001b[0m\u001b[1;33m,\u001b[0m \u001b[0mreal_formatter\u001b[0m\u001b[1;33m,\u001b[0m \u001b[0mimag_formatter\u001b[0m\u001b[1;33m)\u001b[0m\u001b[1;33m\u001b[0m\u001b[1;33m\u001b[0m\u001b[0m\n\u001b[0;32m    240\u001b[0m     \u001b[1;32melse\u001b[0m\u001b[1;33m:\u001b[0m\u001b[1;33m\u001b[0m\u001b[1;33m\u001b[0m\u001b[0m\n\u001b[1;32m--> 241\u001b[1;33m         \u001b[0mformatter\u001b[0m \u001b[1;33m=\u001b[0m \u001b[0m_Formatter\u001b[0m\u001b[1;33m(\u001b[0m\u001b[0mget_summarized_data\u001b[0m\u001b[1;33m(\u001b[0m\u001b[0mself\u001b[0m\u001b[1;33m)\u001b[0m \u001b[1;32mif\u001b[0m \u001b[0msummarize\u001b[0m \u001b[1;32melse\u001b[0m \u001b[0mself\u001b[0m\u001b[1;33m)\u001b[0m\u001b[1;33m\u001b[0m\u001b[1;33m\u001b[0m\u001b[0m\n\u001b[0m\u001b[0;32m    242\u001b[0m         \u001b[1;32mreturn\u001b[0m \u001b[0m_tensor_str_with_formatter\u001b[0m\u001b[1;33m(\u001b[0m\u001b[0mself\u001b[0m\u001b[1;33m,\u001b[0m \u001b[0mindent\u001b[0m\u001b[1;33m,\u001b[0m \u001b[0msummarize\u001b[0m\u001b[1;33m,\u001b[0m \u001b[0mformatter\u001b[0m\u001b[1;33m)\u001b[0m\u001b[1;33m\u001b[0m\u001b[1;33m\u001b[0m\u001b[0m\n\u001b[0;32m    243\u001b[0m \u001b[1;33m\u001b[0m\u001b[0m\n",
      "\u001b[1;32m~\\Anaconda3\\envs\\GPU_Power\\lib\\site-packages\\torch\\_tensor_str.py\u001b[0m in \u001b[0;36m__init__\u001b[1;34m(self, tensor)\u001b[0m\n\u001b[0;32m     87\u001b[0m \u001b[1;33m\u001b[0m\u001b[0m\n\u001b[0;32m     88\u001b[0m         \u001b[1;32melse\u001b[0m\u001b[1;33m:\u001b[0m\u001b[1;33m\u001b[0m\u001b[1;33m\u001b[0m\u001b[0m\n\u001b[1;32m---> 89\u001b[1;33m             \u001b[0mnonzero_finite_vals\u001b[0m \u001b[1;33m=\u001b[0m \u001b[0mtorch\u001b[0m\u001b[1;33m.\u001b[0m\u001b[0mmasked_select\u001b[0m\u001b[1;33m(\u001b[0m\u001b[0mtensor_view\u001b[0m\u001b[1;33m,\u001b[0m \u001b[0mtorch\u001b[0m\u001b[1;33m.\u001b[0m\u001b[0misfinite\u001b[0m\u001b[1;33m(\u001b[0m\u001b[0mtensor_view\u001b[0m\u001b[1;33m)\u001b[0m \u001b[1;33m&\u001b[0m \u001b[0mtensor_view\u001b[0m\u001b[1;33m.\u001b[0m\u001b[0mne\u001b[0m\u001b[1;33m(\u001b[0m\u001b[1;36m0\u001b[0m\u001b[1;33m)\u001b[0m\u001b[1;33m)\u001b[0m\u001b[1;33m\u001b[0m\u001b[1;33m\u001b[0m\u001b[0m\n\u001b[0m\u001b[0;32m     90\u001b[0m \u001b[1;33m\u001b[0m\u001b[0m\n\u001b[0;32m     91\u001b[0m             \u001b[1;32mif\u001b[0m \u001b[0mnonzero_finite_vals\u001b[0m\u001b[1;33m.\u001b[0m\u001b[0mnumel\u001b[0m\u001b[1;33m(\u001b[0m\u001b[1;33m)\u001b[0m \u001b[1;33m==\u001b[0m \u001b[1;36m0\u001b[0m\u001b[1;33m:\u001b[0m\u001b[1;33m\u001b[0m\u001b[1;33m\u001b[0m\u001b[0m\n",
      "\u001b[1;31mKeyboardInterrupt\u001b[0m: "
     ]
    }
   ],
   "source": [
    "epochs = 100000\n",
    "\n",
    "for i in range(epochs):\n",
    "    pred = LR(X_train_tensor.float())\n",
    "\n",
    "    # 2. Calculate loss\n",
    "    loss = loss_fn(pred.float(), y_train_tensor.float())\n",
    "\n",
    "    # 3. Compute gradients\n",
    "    loss.backward()\n",
    "\n",
    "    # 4. Update parameters using gradients\n",
    "    opt.step()\n",
    "\n",
    "    # 5. Reset the gradients to zero\n",
    "    opt.zero_grad()\n",
    "    \n",
    "    if i % 10 == 0:\n",
    "        print('Loss = ', loss)"
   ]
  },
  {
   "cell_type": "code",
   "execution_count": 120,
   "metadata": {},
   "outputs": [
    {
     "name": "stdout",
     "output_type": "stream",
     "text": [
      "Parameter containing:\n",
      "tensor([[0.9279, 1.1546, 2.9884, 8.9811, 2.0066]], requires_grad=True)\n",
      "Parameter containing:\n",
      "tensor([3.7331], requires_grad=True)\n"
     ]
    }
   ],
   "source": [
    "print(LR.weight)\n",
    "print(LR.bias)"
   ]
  },
  {
   "cell_type": "code",
   "execution_count": null,
   "metadata": {},
   "outputs": [],
   "source": [
    "# Actual parameters used in the toy dataset\n",
    "# y = x1 + x2 + 3*x3 + 9*x4 + 2*x5 + 3"
   ]
  },
  {
   "cell_type": "code",
   "execution_count": null,
   "metadata": {},
   "outputs": [],
   "source": []
  }
 ],
 "metadata": {
  "kernelspec": {
   "display_name": "Python 3",
   "language": "python",
   "name": "python3"
  },
  "language_info": {
   "codemirror_mode": {
    "name": "ipython",
    "version": 3
   },
   "file_extension": ".py",
   "mimetype": "text/x-python",
   "name": "python",
   "nbconvert_exporter": "python",
   "pygments_lexer": "ipython3",
   "version": "3.6.12"
  }
 },
 "nbformat": 4,
 "nbformat_minor": 4
}
